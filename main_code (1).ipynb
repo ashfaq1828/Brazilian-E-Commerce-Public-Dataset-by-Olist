{
 "cells": [
  {
   "cell_type": "code",
   "execution_count": null,
   "id": "9cd57c10",
   "metadata": {},
   "outputs": [],
   "source": []
  },
  {
   "cell_type": "code",
   "execution_count": 1,
   "id": "dea242fc",
   "metadata": {},
   "outputs": [],
   "source": [
    "# Import necessary libraries\n",
    "import pandas as pd\n",
    "import numpy as np\n",
    "import matplotlib.pyplot as plt \n",
    "import seaborn as sns\n",
    "import datetime\n",
    "from scipy import stats\n",
    "from sklearn.cluster import KMeans\n",
    "from datetime import timedelta as td\n",
    "from datetime import datetime\n",
    "from datetime import timedelta\n",
    "\n",
    "from sklearn.preprocessing import StandardScaler\n",
    "import warnings\n",
    "warnings.filterwarnings(\"ignore\")"
   ]
  },
  {
   "cell_type": "code",
   "execution_count": 2,
   "id": "f2a7dda2",
   "metadata": {},
   "outputs": [],
   "source": [
    "customer=pd.read_csv(\"olist_customers_dataset.csv\")\n",
    "geolocation=pd.read_csv(\"olist_geolocation_dataset.csv\")\n",
    "orderitems=pd.read_csv(\"olist_order_items_dataset.csv\")\n",
    "orderpayments=pd.read_csv(\"olist_order_payments_dataset.csv\")\n",
    "orderreview=pd.read_csv(\"olist_order_reviews_dataset.csv\")\n",
    "orders=pd.read_csv(\"olist_orders_dataset.csv\")\n",
    "products=pd.read_csv(\"olist_products_dataset.csv\")\n",
    "seller=pd.read_csv(\"olist_sellers_dataset.csv\")\n",
    "category=pd.read_csv(\"product_category_name_translation.csv\")\n",
    "\n"
   ]
  },
  {
   "cell_type": "code",
   "execution_count": null,
   "id": "860f4ab6",
   "metadata": {},
   "outputs": [],
   "source": []
  },
  {
   "cell_type": "code",
   "execution_count": 3,
   "id": "453a1dea",
   "metadata": {},
   "outputs": [],
   "source": [
    "data = orders.merge(customer, on=\"customer_id\").merge(orderitems, on=\"order_id\").merge(products, on=\"product_id\").merge(category, on=\"product_category_name\").merge(orderpayments, on=\"order_id\").merge(seller, on=\"seller_id\").merge(orderreview, on=\"order_id\")"
   ]
  },
  {
   "cell_type": "code",
   "execution_count": 4,
   "id": "91675176",
   "metadata": {},
   "outputs": [
    {
     "data": {
      "text/html": [
       "<div>\n",
       "<style scoped>\n",
       "    .dataframe tbody tr th:only-of-type {\n",
       "        vertical-align: middle;\n",
       "    }\n",
       "\n",
       "    .dataframe tbody tr th {\n",
       "        vertical-align: top;\n",
       "    }\n",
       "\n",
       "    .dataframe thead th {\n",
       "        text-align: right;\n",
       "    }\n",
       "</style>\n",
       "<table border=\"1\" class=\"dataframe\">\n",
       "  <thead>\n",
       "    <tr style=\"text-align: right;\">\n",
       "      <th></th>\n",
       "      <th>order_id</th>\n",
       "      <th>customer_id</th>\n",
       "      <th>order_status</th>\n",
       "      <th>order_purchase_timestamp</th>\n",
       "      <th>order_approved_at</th>\n",
       "      <th>order_delivered_carrier_date</th>\n",
       "      <th>order_delivered_customer_date</th>\n",
       "      <th>order_estimated_delivery_date</th>\n",
       "      <th>customer_unique_id</th>\n",
       "      <th>customer_zip_code_prefix</th>\n",
       "      <th>...</th>\n",
       "      <th>payment_value</th>\n",
       "      <th>seller_zip_code_prefix</th>\n",
       "      <th>seller_city</th>\n",
       "      <th>seller_state</th>\n",
       "      <th>review_id</th>\n",
       "      <th>review_score</th>\n",
       "      <th>review_comment_title</th>\n",
       "      <th>review_comment_message</th>\n",
       "      <th>review_creation_date</th>\n",
       "      <th>review_answer_timestamp</th>\n",
       "    </tr>\n",
       "  </thead>\n",
       "  <tbody>\n",
       "    <tr>\n",
       "      <th>0</th>\n",
       "      <td>e481f51cbdc54678b7cc49136f2d6af7</td>\n",
       "      <td>9ef432eb6251297304e76186b10a928d</td>\n",
       "      <td>delivered</td>\n",
       "      <td>2017-10-02 10:56:33</td>\n",
       "      <td>2017-10-02 11:07:15</td>\n",
       "      <td>2017-10-04 19:55:00</td>\n",
       "      <td>2017-10-10 21:25:13</td>\n",
       "      <td>2017-10-18 00:00:00</td>\n",
       "      <td>7c396fd4830fd04220f754e42b4e5bff</td>\n",
       "      <td>3149</td>\n",
       "      <td>...</td>\n",
       "      <td>18.12</td>\n",
       "      <td>9350</td>\n",
       "      <td>maua</td>\n",
       "      <td>SP</td>\n",
       "      <td>a54f0611adc9ed256b57ede6b6eb5114</td>\n",
       "      <td>4</td>\n",
       "      <td>NaN</td>\n",
       "      <td>Não testei o produto ainda, mas ele veio corre...</td>\n",
       "      <td>2017-10-11 00:00:00</td>\n",
       "      <td>2017-10-12 03:43:48</td>\n",
       "    </tr>\n",
       "    <tr>\n",
       "      <th>1</th>\n",
       "      <td>e481f51cbdc54678b7cc49136f2d6af7</td>\n",
       "      <td>9ef432eb6251297304e76186b10a928d</td>\n",
       "      <td>delivered</td>\n",
       "      <td>2017-10-02 10:56:33</td>\n",
       "      <td>2017-10-02 11:07:15</td>\n",
       "      <td>2017-10-04 19:55:00</td>\n",
       "      <td>2017-10-10 21:25:13</td>\n",
       "      <td>2017-10-18 00:00:00</td>\n",
       "      <td>7c396fd4830fd04220f754e42b4e5bff</td>\n",
       "      <td>3149</td>\n",
       "      <td>...</td>\n",
       "      <td>2.00</td>\n",
       "      <td>9350</td>\n",
       "      <td>maua</td>\n",
       "      <td>SP</td>\n",
       "      <td>a54f0611adc9ed256b57ede6b6eb5114</td>\n",
       "      <td>4</td>\n",
       "      <td>NaN</td>\n",
       "      <td>Não testei o produto ainda, mas ele veio corre...</td>\n",
       "      <td>2017-10-11 00:00:00</td>\n",
       "      <td>2017-10-12 03:43:48</td>\n",
       "    </tr>\n",
       "    <tr>\n",
       "      <th>2</th>\n",
       "      <td>e481f51cbdc54678b7cc49136f2d6af7</td>\n",
       "      <td>9ef432eb6251297304e76186b10a928d</td>\n",
       "      <td>delivered</td>\n",
       "      <td>2017-10-02 10:56:33</td>\n",
       "      <td>2017-10-02 11:07:15</td>\n",
       "      <td>2017-10-04 19:55:00</td>\n",
       "      <td>2017-10-10 21:25:13</td>\n",
       "      <td>2017-10-18 00:00:00</td>\n",
       "      <td>7c396fd4830fd04220f754e42b4e5bff</td>\n",
       "      <td>3149</td>\n",
       "      <td>...</td>\n",
       "      <td>18.59</td>\n",
       "      <td>9350</td>\n",
       "      <td>maua</td>\n",
       "      <td>SP</td>\n",
       "      <td>a54f0611adc9ed256b57ede6b6eb5114</td>\n",
       "      <td>4</td>\n",
       "      <td>NaN</td>\n",
       "      <td>Não testei o produto ainda, mas ele veio corre...</td>\n",
       "      <td>2017-10-11 00:00:00</td>\n",
       "      <td>2017-10-12 03:43:48</td>\n",
       "    </tr>\n",
       "    <tr>\n",
       "      <th>3</th>\n",
       "      <td>128e10d95713541c87cd1a2e48201934</td>\n",
       "      <td>a20e8105f23924cd00833fd87daa0831</td>\n",
       "      <td>delivered</td>\n",
       "      <td>2017-08-15 18:29:31</td>\n",
       "      <td>2017-08-15 20:05:16</td>\n",
       "      <td>2017-08-17 15:28:33</td>\n",
       "      <td>2017-08-18 14:44:43</td>\n",
       "      <td>2017-08-28 00:00:00</td>\n",
       "      <td>3a51803cc0d012c3b5dc8b7528cb05f7</td>\n",
       "      <td>3366</td>\n",
       "      <td>...</td>\n",
       "      <td>37.77</td>\n",
       "      <td>9350</td>\n",
       "      <td>maua</td>\n",
       "      <td>SP</td>\n",
       "      <td>b46f1e34512b0f4c74a72398b03ca788</td>\n",
       "      <td>4</td>\n",
       "      <td>NaN</td>\n",
       "      <td>Deveriam embalar melhor o produto. A caixa vei...</td>\n",
       "      <td>2017-08-19 00:00:00</td>\n",
       "      <td>2017-08-20 15:16:36</td>\n",
       "    </tr>\n",
       "    <tr>\n",
       "      <th>4</th>\n",
       "      <td>0e7e841ddf8f8f2de2bad69267ecfbcf</td>\n",
       "      <td>26c7ac168e1433912a51b924fbd34d34</td>\n",
       "      <td>delivered</td>\n",
       "      <td>2017-08-02 18:24:47</td>\n",
       "      <td>2017-08-02 18:43:15</td>\n",
       "      <td>2017-08-04 17:35:43</td>\n",
       "      <td>2017-08-07 18:30:01</td>\n",
       "      <td>2017-08-15 00:00:00</td>\n",
       "      <td>ef0996a1a279c26e7ecbd737be23d235</td>\n",
       "      <td>2290</td>\n",
       "      <td>...</td>\n",
       "      <td>37.77</td>\n",
       "      <td>9350</td>\n",
       "      <td>maua</td>\n",
       "      <td>SP</td>\n",
       "      <td>dc90f19c2806f1abba9e72ad3c350073</td>\n",
       "      <td>5</td>\n",
       "      <td>NaN</td>\n",
       "      <td>Só achei ela pequena pra seis xícaras ,mais é ...</td>\n",
       "      <td>2017-08-08 00:00:00</td>\n",
       "      <td>2017-08-08 23:26:23</td>\n",
       "    </tr>\n",
       "  </tbody>\n",
       "</table>\n",
       "<p>5 rows × 40 columns</p>\n",
       "</div>"
      ],
      "text/plain": [
       "                           order_id                       customer_id  \\\n",
       "0  e481f51cbdc54678b7cc49136f2d6af7  9ef432eb6251297304e76186b10a928d   \n",
       "1  e481f51cbdc54678b7cc49136f2d6af7  9ef432eb6251297304e76186b10a928d   \n",
       "2  e481f51cbdc54678b7cc49136f2d6af7  9ef432eb6251297304e76186b10a928d   \n",
       "3  128e10d95713541c87cd1a2e48201934  a20e8105f23924cd00833fd87daa0831   \n",
       "4  0e7e841ddf8f8f2de2bad69267ecfbcf  26c7ac168e1433912a51b924fbd34d34   \n",
       "\n",
       "  order_status order_purchase_timestamp    order_approved_at  \\\n",
       "0    delivered      2017-10-02 10:56:33  2017-10-02 11:07:15   \n",
       "1    delivered      2017-10-02 10:56:33  2017-10-02 11:07:15   \n",
       "2    delivered      2017-10-02 10:56:33  2017-10-02 11:07:15   \n",
       "3    delivered      2017-08-15 18:29:31  2017-08-15 20:05:16   \n",
       "4    delivered      2017-08-02 18:24:47  2017-08-02 18:43:15   \n",
       "\n",
       "  order_delivered_carrier_date order_delivered_customer_date  \\\n",
       "0          2017-10-04 19:55:00           2017-10-10 21:25:13   \n",
       "1          2017-10-04 19:55:00           2017-10-10 21:25:13   \n",
       "2          2017-10-04 19:55:00           2017-10-10 21:25:13   \n",
       "3          2017-08-17 15:28:33           2017-08-18 14:44:43   \n",
       "4          2017-08-04 17:35:43           2017-08-07 18:30:01   \n",
       "\n",
       "  order_estimated_delivery_date                customer_unique_id  \\\n",
       "0           2017-10-18 00:00:00  7c396fd4830fd04220f754e42b4e5bff   \n",
       "1           2017-10-18 00:00:00  7c396fd4830fd04220f754e42b4e5bff   \n",
       "2           2017-10-18 00:00:00  7c396fd4830fd04220f754e42b4e5bff   \n",
       "3           2017-08-28 00:00:00  3a51803cc0d012c3b5dc8b7528cb05f7   \n",
       "4           2017-08-15 00:00:00  ef0996a1a279c26e7ecbd737be23d235   \n",
       "\n",
       "   customer_zip_code_prefix  ... payment_value seller_zip_code_prefix  \\\n",
       "0                      3149  ...         18.12                   9350   \n",
       "1                      3149  ...          2.00                   9350   \n",
       "2                      3149  ...         18.59                   9350   \n",
       "3                      3366  ...         37.77                   9350   \n",
       "4                      2290  ...         37.77                   9350   \n",
       "\n",
       "   seller_city seller_state                         review_id review_score  \\\n",
       "0         maua           SP  a54f0611adc9ed256b57ede6b6eb5114            4   \n",
       "1         maua           SP  a54f0611adc9ed256b57ede6b6eb5114            4   \n",
       "2         maua           SP  a54f0611adc9ed256b57ede6b6eb5114            4   \n",
       "3         maua           SP  b46f1e34512b0f4c74a72398b03ca788            4   \n",
       "4         maua           SP  dc90f19c2806f1abba9e72ad3c350073            5   \n",
       "\n",
       "   review_comment_title                             review_comment_message  \\\n",
       "0                   NaN  Não testei o produto ainda, mas ele veio corre...   \n",
       "1                   NaN  Não testei o produto ainda, mas ele veio corre...   \n",
       "2                   NaN  Não testei o produto ainda, mas ele veio corre...   \n",
       "3                   NaN  Deveriam embalar melhor o produto. A caixa vei...   \n",
       "4                   NaN  Só achei ela pequena pra seis xícaras ,mais é ...   \n",
       "\n",
       "  review_creation_date  review_answer_timestamp  \n",
       "0  2017-10-11 00:00:00      2017-10-12 03:43:48  \n",
       "1  2017-10-11 00:00:00      2017-10-12 03:43:48  \n",
       "2  2017-10-11 00:00:00      2017-10-12 03:43:48  \n",
       "3  2017-08-19 00:00:00      2017-08-20 15:16:36  \n",
       "4  2017-08-08 00:00:00      2017-08-08 23:26:23  \n",
       "\n",
       "[5 rows x 40 columns]"
      ]
     },
     "execution_count": 4,
     "metadata": {},
     "output_type": "execute_result"
    }
   ],
   "source": [
    "data.head()"
   ]
  },
  {
   "cell_type": "code",
   "execution_count": 5,
   "id": "afb91e7f",
   "metadata": {},
   "outputs": [
    {
     "data": {
      "text/html": [
       "<div>\n",
       "<style scoped>\n",
       "    .dataframe tbody tr th:only-of-type {\n",
       "        vertical-align: middle;\n",
       "    }\n",
       "\n",
       "    .dataframe tbody tr th {\n",
       "        vertical-align: top;\n",
       "    }\n",
       "\n",
       "    .dataframe thead th {\n",
       "        text-align: right;\n",
       "    }\n",
       "</style>\n",
       "<table border=\"1\" class=\"dataframe\">\n",
       "  <thead>\n",
       "    <tr style=\"text-align: right;\">\n",
       "      <th></th>\n",
       "      <th>order_id</th>\n",
       "      <th>customer_id</th>\n",
       "      <th>order_status</th>\n",
       "      <th>order_purchase_timestamp</th>\n",
       "      <th>order_approved_at</th>\n",
       "      <th>order_delivered_carrier_date</th>\n",
       "      <th>order_delivered_customer_date</th>\n",
       "      <th>order_estimated_delivery_date</th>\n",
       "      <th>customer_unique_id</th>\n",
       "      <th>zip_code</th>\n",
       "      <th>...</th>\n",
       "      <th>payment_value</th>\n",
       "      <th>seller_zip_code_prefix</th>\n",
       "      <th>seller_city</th>\n",
       "      <th>seller_state</th>\n",
       "      <th>review_id</th>\n",
       "      <th>review_score</th>\n",
       "      <th>review_comment_title</th>\n",
       "      <th>review_comment_message</th>\n",
       "      <th>review_creation_date</th>\n",
       "      <th>review_answer_timestamp</th>\n",
       "    </tr>\n",
       "  </thead>\n",
       "  <tbody>\n",
       "    <tr>\n",
       "      <th>0</th>\n",
       "      <td>e481f51cbdc54678b7cc49136f2d6af7</td>\n",
       "      <td>9ef432eb6251297304e76186b10a928d</td>\n",
       "      <td>delivered</td>\n",
       "      <td>2017-10-02 10:56:33</td>\n",
       "      <td>2017-10-02 11:07:15</td>\n",
       "      <td>2017-10-04 19:55:00</td>\n",
       "      <td>2017-10-10 21:25:13</td>\n",
       "      <td>2017-10-18 00:00:00</td>\n",
       "      <td>7c396fd4830fd04220f754e42b4e5bff</td>\n",
       "      <td>3149</td>\n",
       "      <td>...</td>\n",
       "      <td>18.12</td>\n",
       "      <td>9350</td>\n",
       "      <td>maua</td>\n",
       "      <td>SP</td>\n",
       "      <td>a54f0611adc9ed256b57ede6b6eb5114</td>\n",
       "      <td>4</td>\n",
       "      <td>NaN</td>\n",
       "      <td>Não testei o produto ainda, mas ele veio corre...</td>\n",
       "      <td>2017-10-11 00:00:00</td>\n",
       "      <td>2017-10-12 03:43:48</td>\n",
       "    </tr>\n",
       "    <tr>\n",
       "      <th>1</th>\n",
       "      <td>e481f51cbdc54678b7cc49136f2d6af7</td>\n",
       "      <td>9ef432eb6251297304e76186b10a928d</td>\n",
       "      <td>delivered</td>\n",
       "      <td>2017-10-02 10:56:33</td>\n",
       "      <td>2017-10-02 11:07:15</td>\n",
       "      <td>2017-10-04 19:55:00</td>\n",
       "      <td>2017-10-10 21:25:13</td>\n",
       "      <td>2017-10-18 00:00:00</td>\n",
       "      <td>7c396fd4830fd04220f754e42b4e5bff</td>\n",
       "      <td>3149</td>\n",
       "      <td>...</td>\n",
       "      <td>2.00</td>\n",
       "      <td>9350</td>\n",
       "      <td>maua</td>\n",
       "      <td>SP</td>\n",
       "      <td>a54f0611adc9ed256b57ede6b6eb5114</td>\n",
       "      <td>4</td>\n",
       "      <td>NaN</td>\n",
       "      <td>Não testei o produto ainda, mas ele veio corre...</td>\n",
       "      <td>2017-10-11 00:00:00</td>\n",
       "      <td>2017-10-12 03:43:48</td>\n",
       "    </tr>\n",
       "    <tr>\n",
       "      <th>2</th>\n",
       "      <td>e481f51cbdc54678b7cc49136f2d6af7</td>\n",
       "      <td>9ef432eb6251297304e76186b10a928d</td>\n",
       "      <td>delivered</td>\n",
       "      <td>2017-10-02 10:56:33</td>\n",
       "      <td>2017-10-02 11:07:15</td>\n",
       "      <td>2017-10-04 19:55:00</td>\n",
       "      <td>2017-10-10 21:25:13</td>\n",
       "      <td>2017-10-18 00:00:00</td>\n",
       "      <td>7c396fd4830fd04220f754e42b4e5bff</td>\n",
       "      <td>3149</td>\n",
       "      <td>...</td>\n",
       "      <td>18.59</td>\n",
       "      <td>9350</td>\n",
       "      <td>maua</td>\n",
       "      <td>SP</td>\n",
       "      <td>a54f0611adc9ed256b57ede6b6eb5114</td>\n",
       "      <td>4</td>\n",
       "      <td>NaN</td>\n",
       "      <td>Não testei o produto ainda, mas ele veio corre...</td>\n",
       "      <td>2017-10-11 00:00:00</td>\n",
       "      <td>2017-10-12 03:43:48</td>\n",
       "    </tr>\n",
       "    <tr>\n",
       "      <th>3</th>\n",
       "      <td>128e10d95713541c87cd1a2e48201934</td>\n",
       "      <td>a20e8105f23924cd00833fd87daa0831</td>\n",
       "      <td>delivered</td>\n",
       "      <td>2017-08-15 18:29:31</td>\n",
       "      <td>2017-08-15 20:05:16</td>\n",
       "      <td>2017-08-17 15:28:33</td>\n",
       "      <td>2017-08-18 14:44:43</td>\n",
       "      <td>2017-08-28 00:00:00</td>\n",
       "      <td>3a51803cc0d012c3b5dc8b7528cb05f7</td>\n",
       "      <td>3366</td>\n",
       "      <td>...</td>\n",
       "      <td>37.77</td>\n",
       "      <td>9350</td>\n",
       "      <td>maua</td>\n",
       "      <td>SP</td>\n",
       "      <td>b46f1e34512b0f4c74a72398b03ca788</td>\n",
       "      <td>4</td>\n",
       "      <td>NaN</td>\n",
       "      <td>Deveriam embalar melhor o produto. A caixa vei...</td>\n",
       "      <td>2017-08-19 00:00:00</td>\n",
       "      <td>2017-08-20 15:16:36</td>\n",
       "    </tr>\n",
       "    <tr>\n",
       "      <th>4</th>\n",
       "      <td>0e7e841ddf8f8f2de2bad69267ecfbcf</td>\n",
       "      <td>26c7ac168e1433912a51b924fbd34d34</td>\n",
       "      <td>delivered</td>\n",
       "      <td>2017-08-02 18:24:47</td>\n",
       "      <td>2017-08-02 18:43:15</td>\n",
       "      <td>2017-08-04 17:35:43</td>\n",
       "      <td>2017-08-07 18:30:01</td>\n",
       "      <td>2017-08-15 00:00:00</td>\n",
       "      <td>ef0996a1a279c26e7ecbd737be23d235</td>\n",
       "      <td>2290</td>\n",
       "      <td>...</td>\n",
       "      <td>37.77</td>\n",
       "      <td>9350</td>\n",
       "      <td>maua</td>\n",
       "      <td>SP</td>\n",
       "      <td>dc90f19c2806f1abba9e72ad3c350073</td>\n",
       "      <td>5</td>\n",
       "      <td>NaN</td>\n",
       "      <td>Só achei ela pequena pra seis xícaras ,mais é ...</td>\n",
       "      <td>2017-08-08 00:00:00</td>\n",
       "      <td>2017-08-08 23:26:23</td>\n",
       "    </tr>\n",
       "    <tr>\n",
       "      <th>...</th>\n",
       "      <td>...</td>\n",
       "      <td>...</td>\n",
       "      <td>...</td>\n",
       "      <td>...</td>\n",
       "      <td>...</td>\n",
       "      <td>...</td>\n",
       "      <td>...</td>\n",
       "      <td>...</td>\n",
       "      <td>...</td>\n",
       "      <td>...</td>\n",
       "      <td>...</td>\n",
       "      <td>...</td>\n",
       "      <td>...</td>\n",
       "      <td>...</td>\n",
       "      <td>...</td>\n",
       "      <td>...</td>\n",
       "      <td>...</td>\n",
       "      <td>...</td>\n",
       "      <td>...</td>\n",
       "      <td>...</td>\n",
       "      <td>...</td>\n",
       "    </tr>\n",
       "    <tr>\n",
       "      <th>115604</th>\n",
       "      <td>edcf1e1eeb52381be9388c90152be52d</td>\n",
       "      <td>ce2172509c4149d65212484eb761bc37</td>\n",
       "      <td>delivered</td>\n",
       "      <td>2018-08-21 11:29:05</td>\n",
       "      <td>2018-08-21 11:50:47</td>\n",
       "      <td>2018-08-21 15:37:00</td>\n",
       "      <td>2018-08-24 13:06:25</td>\n",
       "      <td>2018-09-06 00:00:00</td>\n",
       "      <td>c5da6424f1f5decedef8672a1a0103e1</td>\n",
       "      <td>88350</td>\n",
       "      <td>...</td>\n",
       "      <td>314.32</td>\n",
       "      <td>95910</td>\n",
       "      <td>lajeado</td>\n",
       "      <td>RS</td>\n",
       "      <td>a6a6d2f97b28e8aca22046635855fe63</td>\n",
       "      <td>5</td>\n",
       "      <td>Pedido entregue</td>\n",
       "      <td>Recebi em 3 dias muito rápido tudo perfeito pa...</td>\n",
       "      <td>2018-08-25 00:00:00</td>\n",
       "      <td>2018-08-27 16:43:30</td>\n",
       "    </tr>\n",
       "    <tr>\n",
       "      <th>115605</th>\n",
       "      <td>2c12150c742ae2fa48bc703964c16c5f</td>\n",
       "      <td>ab0cf72dfe0538a63a57d6905ccb7b57</td>\n",
       "      <td>delivered</td>\n",
       "      <td>2018-07-28 17:55:27</td>\n",
       "      <td>2018-07-29 18:30:31</td>\n",
       "      <td>2018-07-30 14:54:00</td>\n",
       "      <td>2018-08-03 17:46:46</td>\n",
       "      <td>2018-08-16 00:00:00</td>\n",
       "      <td>8c3c961a52bb5a0ffbce1d4e6d25cd67</td>\n",
       "      <td>35930</td>\n",
       "      <td>...</td>\n",
       "      <td>77.50</td>\n",
       "      <td>17201</td>\n",
       "      <td>jau</td>\n",
       "      <td>SP</td>\n",
       "      <td>6b7c670a784ae6d3f17ee1d4b28d197e</td>\n",
       "      <td>5</td>\n",
       "      <td>NaN</td>\n",
       "      <td>NaN</td>\n",
       "      <td>2018-08-04 00:00:00</td>\n",
       "      <td>2018-08-05 22:10:19</td>\n",
       "    </tr>\n",
       "    <tr>\n",
       "      <th>115606</th>\n",
       "      <td>9f7ba492c273ffac8f90a623b8eadd3b</td>\n",
       "      <td>c61336d6c835632048f973d2f2db598d</td>\n",
       "      <td>delivered</td>\n",
       "      <td>2018-08-23 12:31:37</td>\n",
       "      <td>2018-08-24 03:24:24</td>\n",
       "      <td>2018-08-24 15:14:00</td>\n",
       "      <td>2018-08-28 02:06:35</td>\n",
       "      <td>2018-09-03 00:00:00</td>\n",
       "      <td>428f4721a509be8c52de6ec2900ba918</td>\n",
       "      <td>12305</td>\n",
       "      <td>...</td>\n",
       "      <td>24.69</td>\n",
       "      <td>17201</td>\n",
       "      <td>jau</td>\n",
       "      <td>SP</td>\n",
       "      <td>24e88b5f641a6a3219ce7a730509d570</td>\n",
       "      <td>5</td>\n",
       "      <td>NaN</td>\n",
       "      <td>Excelente</td>\n",
       "      <td>2018-08-28 00:00:00</td>\n",
       "      <td>2018-08-31 00:26:10</td>\n",
       "    </tr>\n",
       "    <tr>\n",
       "      <th>115607</th>\n",
       "      <td>2ef4a11b6e24fdfbb43b92cb5f95edff</td>\n",
       "      <td>ee1cfdc92e449920e25d3ca4ab4da4f6</td>\n",
       "      <td>delivered</td>\n",
       "      <td>2018-07-23 18:35:14</td>\n",
       "      <td>2018-07-24 10:31:25</td>\n",
       "      <td>2018-07-24 14:37:00</td>\n",
       "      <td>2018-07-27 14:04:10</td>\n",
       "      <td>2018-08-06 00:00:00</td>\n",
       "      <td>8d80e477643ec569b24592ce3d9dfc4c</td>\n",
       "      <td>9951</td>\n",
       "      <td>...</td>\n",
       "      <td>84.63</td>\n",
       "      <td>17201</td>\n",
       "      <td>jau</td>\n",
       "      <td>SP</td>\n",
       "      <td>ad0de1dda4fa03e8efb68c481b31ebf8</td>\n",
       "      <td>3</td>\n",
       "      <td>A FOLHA NAO FRISA</td>\n",
       "      <td>Um dos frisadores que comprei, especificamente...</td>\n",
       "      <td>2018-07-28 00:00:00</td>\n",
       "      <td>2018-08-03 01:58:42</td>\n",
       "    </tr>\n",
       "    <tr>\n",
       "      <th>115608</th>\n",
       "      <td>2ef4a11b6e24fdfbb43b92cb5f95edff</td>\n",
       "      <td>ee1cfdc92e449920e25d3ca4ab4da4f6</td>\n",
       "      <td>delivered</td>\n",
       "      <td>2018-07-23 18:35:14</td>\n",
       "      <td>2018-07-24 10:31:25</td>\n",
       "      <td>2018-07-24 14:37:00</td>\n",
       "      <td>2018-07-27 14:04:10</td>\n",
       "      <td>2018-08-06 00:00:00</td>\n",
       "      <td>8d80e477643ec569b24592ce3d9dfc4c</td>\n",
       "      <td>9951</td>\n",
       "      <td>...</td>\n",
       "      <td>84.63</td>\n",
       "      <td>17201</td>\n",
       "      <td>jau</td>\n",
       "      <td>SP</td>\n",
       "      <td>ad0de1dda4fa03e8efb68c481b31ebf8</td>\n",
       "      <td>3</td>\n",
       "      <td>A FOLHA NAO FRISA</td>\n",
       "      <td>Um dos frisadores que comprei, especificamente...</td>\n",
       "      <td>2018-07-28 00:00:00</td>\n",
       "      <td>2018-08-03 01:58:42</td>\n",
       "    </tr>\n",
       "  </tbody>\n",
       "</table>\n",
       "<p>115609 rows × 40 columns</p>\n",
       "</div>"
      ],
      "text/plain": [
       "                                order_id                       customer_id  \\\n",
       "0       e481f51cbdc54678b7cc49136f2d6af7  9ef432eb6251297304e76186b10a928d   \n",
       "1       e481f51cbdc54678b7cc49136f2d6af7  9ef432eb6251297304e76186b10a928d   \n",
       "2       e481f51cbdc54678b7cc49136f2d6af7  9ef432eb6251297304e76186b10a928d   \n",
       "3       128e10d95713541c87cd1a2e48201934  a20e8105f23924cd00833fd87daa0831   \n",
       "4       0e7e841ddf8f8f2de2bad69267ecfbcf  26c7ac168e1433912a51b924fbd34d34   \n",
       "...                                  ...                               ...   \n",
       "115604  edcf1e1eeb52381be9388c90152be52d  ce2172509c4149d65212484eb761bc37   \n",
       "115605  2c12150c742ae2fa48bc703964c16c5f  ab0cf72dfe0538a63a57d6905ccb7b57   \n",
       "115606  9f7ba492c273ffac8f90a623b8eadd3b  c61336d6c835632048f973d2f2db598d   \n",
       "115607  2ef4a11b6e24fdfbb43b92cb5f95edff  ee1cfdc92e449920e25d3ca4ab4da4f6   \n",
       "115608  2ef4a11b6e24fdfbb43b92cb5f95edff  ee1cfdc92e449920e25d3ca4ab4da4f6   \n",
       "\n",
       "       order_status order_purchase_timestamp    order_approved_at  \\\n",
       "0         delivered      2017-10-02 10:56:33  2017-10-02 11:07:15   \n",
       "1         delivered      2017-10-02 10:56:33  2017-10-02 11:07:15   \n",
       "2         delivered      2017-10-02 10:56:33  2017-10-02 11:07:15   \n",
       "3         delivered      2017-08-15 18:29:31  2017-08-15 20:05:16   \n",
       "4         delivered      2017-08-02 18:24:47  2017-08-02 18:43:15   \n",
       "...             ...                      ...                  ...   \n",
       "115604    delivered      2018-08-21 11:29:05  2018-08-21 11:50:47   \n",
       "115605    delivered      2018-07-28 17:55:27  2018-07-29 18:30:31   \n",
       "115606    delivered      2018-08-23 12:31:37  2018-08-24 03:24:24   \n",
       "115607    delivered      2018-07-23 18:35:14  2018-07-24 10:31:25   \n",
       "115608    delivered      2018-07-23 18:35:14  2018-07-24 10:31:25   \n",
       "\n",
       "       order_delivered_carrier_date order_delivered_customer_date  \\\n",
       "0               2017-10-04 19:55:00           2017-10-10 21:25:13   \n",
       "1               2017-10-04 19:55:00           2017-10-10 21:25:13   \n",
       "2               2017-10-04 19:55:00           2017-10-10 21:25:13   \n",
       "3               2017-08-17 15:28:33           2017-08-18 14:44:43   \n",
       "4               2017-08-04 17:35:43           2017-08-07 18:30:01   \n",
       "...                             ...                           ...   \n",
       "115604          2018-08-21 15:37:00           2018-08-24 13:06:25   \n",
       "115605          2018-07-30 14:54:00           2018-08-03 17:46:46   \n",
       "115606          2018-08-24 15:14:00           2018-08-28 02:06:35   \n",
       "115607          2018-07-24 14:37:00           2018-07-27 14:04:10   \n",
       "115608          2018-07-24 14:37:00           2018-07-27 14:04:10   \n",
       "\n",
       "       order_estimated_delivery_date                customer_unique_id  \\\n",
       "0                2017-10-18 00:00:00  7c396fd4830fd04220f754e42b4e5bff   \n",
       "1                2017-10-18 00:00:00  7c396fd4830fd04220f754e42b4e5bff   \n",
       "2                2017-10-18 00:00:00  7c396fd4830fd04220f754e42b4e5bff   \n",
       "3                2017-08-28 00:00:00  3a51803cc0d012c3b5dc8b7528cb05f7   \n",
       "4                2017-08-15 00:00:00  ef0996a1a279c26e7ecbd737be23d235   \n",
       "...                              ...                               ...   \n",
       "115604           2018-09-06 00:00:00  c5da6424f1f5decedef8672a1a0103e1   \n",
       "115605           2018-08-16 00:00:00  8c3c961a52bb5a0ffbce1d4e6d25cd67   \n",
       "115606           2018-09-03 00:00:00  428f4721a509be8c52de6ec2900ba918   \n",
       "115607           2018-08-06 00:00:00  8d80e477643ec569b24592ce3d9dfc4c   \n",
       "115608           2018-08-06 00:00:00  8d80e477643ec569b24592ce3d9dfc4c   \n",
       "\n",
       "        zip_code  ... payment_value seller_zip_code_prefix  seller_city  \\\n",
       "0           3149  ...         18.12                   9350         maua   \n",
       "1           3149  ...          2.00                   9350         maua   \n",
       "2           3149  ...         18.59                   9350         maua   \n",
       "3           3366  ...         37.77                   9350         maua   \n",
       "4           2290  ...         37.77                   9350         maua   \n",
       "...          ...  ...           ...                    ...          ...   \n",
       "115604     88350  ...        314.32                  95910      lajeado   \n",
       "115605     35930  ...         77.50                  17201          jau   \n",
       "115606     12305  ...         24.69                  17201          jau   \n",
       "115607      9951  ...         84.63                  17201          jau   \n",
       "115608      9951  ...         84.63                  17201          jau   \n",
       "\n",
       "       seller_state                         review_id review_score  \\\n",
       "0                SP  a54f0611adc9ed256b57ede6b6eb5114            4   \n",
       "1                SP  a54f0611adc9ed256b57ede6b6eb5114            4   \n",
       "2                SP  a54f0611adc9ed256b57ede6b6eb5114            4   \n",
       "3                SP  b46f1e34512b0f4c74a72398b03ca788            4   \n",
       "4                SP  dc90f19c2806f1abba9e72ad3c350073            5   \n",
       "...             ...                               ...          ...   \n",
       "115604           RS  a6a6d2f97b28e8aca22046635855fe63            5   \n",
       "115605           SP  6b7c670a784ae6d3f17ee1d4b28d197e            5   \n",
       "115606           SP  24e88b5f641a6a3219ce7a730509d570            5   \n",
       "115607           SP  ad0de1dda4fa03e8efb68c481b31ebf8            3   \n",
       "115608           SP  ad0de1dda4fa03e8efb68c481b31ebf8            3   \n",
       "\n",
       "        review_comment_title  \\\n",
       "0                        NaN   \n",
       "1                        NaN   \n",
       "2                        NaN   \n",
       "3                        NaN   \n",
       "4                        NaN   \n",
       "...                      ...   \n",
       "115604       Pedido entregue   \n",
       "115605                   NaN   \n",
       "115606                   NaN   \n",
       "115607     A FOLHA NAO FRISA   \n",
       "115608     A FOLHA NAO FRISA   \n",
       "\n",
       "                                   review_comment_message  \\\n",
       "0       Não testei o produto ainda, mas ele veio corre...   \n",
       "1       Não testei o produto ainda, mas ele veio corre...   \n",
       "2       Não testei o produto ainda, mas ele veio corre...   \n",
       "3       Deveriam embalar melhor o produto. A caixa vei...   \n",
       "4       Só achei ela pequena pra seis xícaras ,mais é ...   \n",
       "...                                                   ...   \n",
       "115604  Recebi em 3 dias muito rápido tudo perfeito pa...   \n",
       "115605                                                NaN   \n",
       "115606                                          Excelente   \n",
       "115607  Um dos frisadores que comprei, especificamente...   \n",
       "115608  Um dos frisadores que comprei, especificamente...   \n",
       "\n",
       "       review_creation_date  review_answer_timestamp  \n",
       "0       2017-10-11 00:00:00      2017-10-12 03:43:48  \n",
       "1       2017-10-11 00:00:00      2017-10-12 03:43:48  \n",
       "2       2017-10-11 00:00:00      2017-10-12 03:43:48  \n",
       "3       2017-08-19 00:00:00      2017-08-20 15:16:36  \n",
       "4       2017-08-08 00:00:00      2017-08-08 23:26:23  \n",
       "...                     ...                      ...  \n",
       "115604  2018-08-25 00:00:00      2018-08-27 16:43:30  \n",
       "115605  2018-08-04 00:00:00      2018-08-05 22:10:19  \n",
       "115606  2018-08-28 00:00:00      2018-08-31 00:26:10  \n",
       "115607  2018-07-28 00:00:00      2018-08-03 01:58:42  \n",
       "115608  2018-07-28 00:00:00      2018-08-03 01:58:42  \n",
       "\n",
       "[115609 rows x 40 columns]"
      ]
     },
     "execution_count": 5,
     "metadata": {},
     "output_type": "execute_result"
    }
   ],
   "source": [
    "data.rename(columns={'customer_zip_code_prefix':'zip_code'})"
   ]
  },
  {
   "cell_type": "code",
   "execution_count": 6,
   "id": "b2310504",
   "metadata": {},
   "outputs": [
    {
     "data": {
      "text/plain": [
       "review_comment_title             0.880623\n",
       "review_comment_message           0.576971\n",
       "order_delivered_customer_date    0.020760\n",
       "order_delivered_carrier_date     0.010337\n",
       "order_approved_at                0.000121\n",
       "product_length_cm                0.000009\n",
       "product_height_cm                0.000009\n",
       "product_width_cm                 0.000009\n",
       "product_weight_g                 0.000009\n",
       "payment_installments             0.000000\n",
       "product_category_name_english    0.000000\n",
       "payment_sequential               0.000000\n",
       "payment_type                     0.000000\n",
       "order_id                         0.000000\n",
       "payment_value                    0.000000\n",
       "seller_zip_code_prefix           0.000000\n",
       "seller_city                      0.000000\n",
       "review_id                        0.000000\n",
       "review_score                     0.000000\n",
       "review_creation_date             0.000000\n",
       "seller_state                     0.000000\n",
       "product_description_lenght       0.000000\n",
       "product_photos_qty               0.000000\n",
       "customer_id                      0.000000\n",
       "order_status                     0.000000\n",
       "order_purchase_timestamp         0.000000\n",
       "order_estimated_delivery_date    0.000000\n",
       "customer_unique_id               0.000000\n",
       "customer_zip_code_prefix         0.000000\n",
       "customer_city                    0.000000\n",
       "customer_state                   0.000000\n",
       "order_item_id                    0.000000\n",
       "product_id                       0.000000\n",
       "seller_id                        0.000000\n",
       "shipping_limit_date              0.000000\n",
       "price                            0.000000\n",
       "freight_value                    0.000000\n",
       "product_category_name            0.000000\n",
       "product_name_lenght              0.000000\n",
       "review_answer_timestamp          0.000000\n",
       "dtype: float64"
      ]
     },
     "execution_count": 6,
     "metadata": {},
     "output_type": "execute_result"
    }
   ],
   "source": [
    "(data.isnull().sum() / len(data) ).sort_values(ascending=False)\n"
   ]
  },
  {
   "cell_type": "code",
   "execution_count": 6,
   "id": "88e4f9b5",
   "metadata": {},
   "outputs": [
    {
     "data": {
      "text/html": [
       "<div>\n",
       "<style scoped>\n",
       "    .dataframe tbody tr th:only-of-type {\n",
       "        vertical-align: middle;\n",
       "    }\n",
       "\n",
       "    .dataframe tbody tr th {\n",
       "        vertical-align: top;\n",
       "    }\n",
       "\n",
       "    .dataframe thead th {\n",
       "        text-align: right;\n",
       "    }\n",
       "</style>\n",
       "<table border=\"1\" class=\"dataframe\">\n",
       "  <thead>\n",
       "    <tr style=\"text-align: right;\">\n",
       "      <th></th>\n",
       "      <th>customer_zip_code_prefix</th>\n",
       "      <th>order_item_id</th>\n",
       "      <th>price</th>\n",
       "      <th>freight_value</th>\n",
       "      <th>product_name_lenght</th>\n",
       "      <th>product_description_lenght</th>\n",
       "      <th>product_photos_qty</th>\n",
       "      <th>product_weight_g</th>\n",
       "      <th>product_length_cm</th>\n",
       "      <th>product_height_cm</th>\n",
       "      <th>product_width_cm</th>\n",
       "      <th>payment_sequential</th>\n",
       "      <th>payment_installments</th>\n",
       "      <th>payment_value</th>\n",
       "      <th>seller_zip_code_prefix</th>\n",
       "      <th>review_score</th>\n",
       "    </tr>\n",
       "  </thead>\n",
       "  <tbody>\n",
       "    <tr>\n",
       "      <th>count</th>\n",
       "      <td>115609.000000</td>\n",
       "      <td>115609.000000</td>\n",
       "      <td>115609.000000</td>\n",
       "      <td>115609.000000</td>\n",
       "      <td>115609.000000</td>\n",
       "      <td>115609.000000</td>\n",
       "      <td>115609.000000</td>\n",
       "      <td>115608.000000</td>\n",
       "      <td>115608.000000</td>\n",
       "      <td>115608.000000</td>\n",
       "      <td>115608.000000</td>\n",
       "      <td>115609.000000</td>\n",
       "      <td>115609.000000</td>\n",
       "      <td>115609.000000</td>\n",
       "      <td>115609.000000</td>\n",
       "      <td>115609.000000</td>\n",
       "    </tr>\n",
       "    <tr>\n",
       "      <th>mean</th>\n",
       "      <td>35061.537597</td>\n",
       "      <td>1.194535</td>\n",
       "      <td>120.619850</td>\n",
       "      <td>20.056880</td>\n",
       "      <td>48.766541</td>\n",
       "      <td>785.808198</td>\n",
       "      <td>2.205373</td>\n",
       "      <td>2113.907697</td>\n",
       "      <td>30.307903</td>\n",
       "      <td>16.638477</td>\n",
       "      <td>23.113167</td>\n",
       "      <td>1.093747</td>\n",
       "      <td>2.946233</td>\n",
       "      <td>172.387379</td>\n",
       "      <td>24515.713958</td>\n",
       "      <td>4.034409</td>\n",
       "    </tr>\n",
       "    <tr>\n",
       "      <th>std</th>\n",
       "      <td>29841.671732</td>\n",
       "      <td>0.685926</td>\n",
       "      <td>182.653476</td>\n",
       "      <td>15.836184</td>\n",
       "      <td>10.034187</td>\n",
       "      <td>652.418619</td>\n",
       "      <td>1.717771</td>\n",
       "      <td>3781.754895</td>\n",
       "      <td>16.211108</td>\n",
       "      <td>13.473570</td>\n",
       "      <td>11.755083</td>\n",
       "      <td>0.729849</td>\n",
       "      <td>2.781087</td>\n",
       "      <td>265.873969</td>\n",
       "      <td>27636.640968</td>\n",
       "      <td>1.385584</td>\n",
       "    </tr>\n",
       "    <tr>\n",
       "      <th>min</th>\n",
       "      <td>1003.000000</td>\n",
       "      <td>1.000000</td>\n",
       "      <td>0.850000</td>\n",
       "      <td>0.000000</td>\n",
       "      <td>5.000000</td>\n",
       "      <td>4.000000</td>\n",
       "      <td>1.000000</td>\n",
       "      <td>0.000000</td>\n",
       "      <td>7.000000</td>\n",
       "      <td>2.000000</td>\n",
       "      <td>6.000000</td>\n",
       "      <td>1.000000</td>\n",
       "      <td>0.000000</td>\n",
       "      <td>0.000000</td>\n",
       "      <td>1001.000000</td>\n",
       "      <td>1.000000</td>\n",
       "    </tr>\n",
       "    <tr>\n",
       "      <th>25%</th>\n",
       "      <td>11310.000000</td>\n",
       "      <td>1.000000</td>\n",
       "      <td>39.900000</td>\n",
       "      <td>13.080000</td>\n",
       "      <td>42.000000</td>\n",
       "      <td>346.000000</td>\n",
       "      <td>1.000000</td>\n",
       "      <td>300.000000</td>\n",
       "      <td>18.000000</td>\n",
       "      <td>8.000000</td>\n",
       "      <td>15.000000</td>\n",
       "      <td>1.000000</td>\n",
       "      <td>1.000000</td>\n",
       "      <td>60.870000</td>\n",
       "      <td>6429.000000</td>\n",
       "      <td>4.000000</td>\n",
       "    </tr>\n",
       "    <tr>\n",
       "      <th>50%</th>\n",
       "      <td>24241.000000</td>\n",
       "      <td>1.000000</td>\n",
       "      <td>74.900000</td>\n",
       "      <td>16.320000</td>\n",
       "      <td>52.000000</td>\n",
       "      <td>600.000000</td>\n",
       "      <td>1.000000</td>\n",
       "      <td>700.000000</td>\n",
       "      <td>25.000000</td>\n",
       "      <td>13.000000</td>\n",
       "      <td>20.000000</td>\n",
       "      <td>1.000000</td>\n",
       "      <td>2.000000</td>\n",
       "      <td>108.050000</td>\n",
       "      <td>13660.000000</td>\n",
       "      <td>5.000000</td>\n",
       "    </tr>\n",
       "    <tr>\n",
       "      <th>75%</th>\n",
       "      <td>58745.000000</td>\n",
       "      <td>1.000000</td>\n",
       "      <td>134.900000</td>\n",
       "      <td>21.210000</td>\n",
       "      <td>57.000000</td>\n",
       "      <td>983.000000</td>\n",
       "      <td>3.000000</td>\n",
       "      <td>1800.000000</td>\n",
       "      <td>38.000000</td>\n",
       "      <td>20.000000</td>\n",
       "      <td>30.000000</td>\n",
       "      <td>1.000000</td>\n",
       "      <td>4.000000</td>\n",
       "      <td>189.480000</td>\n",
       "      <td>28605.000000</td>\n",
       "      <td>5.000000</td>\n",
       "    </tr>\n",
       "    <tr>\n",
       "      <th>max</th>\n",
       "      <td>99980.000000</td>\n",
       "      <td>21.000000</td>\n",
       "      <td>6735.000000</td>\n",
       "      <td>409.680000</td>\n",
       "      <td>76.000000</td>\n",
       "      <td>3992.000000</td>\n",
       "      <td>20.000000</td>\n",
       "      <td>40425.000000</td>\n",
       "      <td>105.000000</td>\n",
       "      <td>105.000000</td>\n",
       "      <td>118.000000</td>\n",
       "      <td>29.000000</td>\n",
       "      <td>24.000000</td>\n",
       "      <td>13664.080000</td>\n",
       "      <td>99730.000000</td>\n",
       "      <td>5.000000</td>\n",
       "    </tr>\n",
       "  </tbody>\n",
       "</table>\n",
       "</div>"
      ],
      "text/plain": [
       "       customer_zip_code_prefix  order_item_id          price  freight_value  \\\n",
       "count             115609.000000  115609.000000  115609.000000  115609.000000   \n",
       "mean               35061.537597       1.194535     120.619850      20.056880   \n",
       "std                29841.671732       0.685926     182.653476      15.836184   \n",
       "min                 1003.000000       1.000000       0.850000       0.000000   \n",
       "25%                11310.000000       1.000000      39.900000      13.080000   \n",
       "50%                24241.000000       1.000000      74.900000      16.320000   \n",
       "75%                58745.000000       1.000000     134.900000      21.210000   \n",
       "max                99980.000000      21.000000    6735.000000     409.680000   \n",
       "\n",
       "       product_name_lenght  product_description_lenght  product_photos_qty  \\\n",
       "count        115609.000000               115609.000000       115609.000000   \n",
       "mean             48.766541                  785.808198            2.205373   \n",
       "std              10.034187                  652.418619            1.717771   \n",
       "min               5.000000                    4.000000            1.000000   \n",
       "25%              42.000000                  346.000000            1.000000   \n",
       "50%              52.000000                  600.000000            1.000000   \n",
       "75%              57.000000                  983.000000            3.000000   \n",
       "max              76.000000                 3992.000000           20.000000   \n",
       "\n",
       "       product_weight_g  product_length_cm  product_height_cm  \\\n",
       "count     115608.000000      115608.000000      115608.000000   \n",
       "mean        2113.907697          30.307903          16.638477   \n",
       "std         3781.754895          16.211108          13.473570   \n",
       "min            0.000000           7.000000           2.000000   \n",
       "25%          300.000000          18.000000           8.000000   \n",
       "50%          700.000000          25.000000          13.000000   \n",
       "75%         1800.000000          38.000000          20.000000   \n",
       "max        40425.000000         105.000000         105.000000   \n",
       "\n",
       "       product_width_cm  payment_sequential  payment_installments  \\\n",
       "count     115608.000000       115609.000000         115609.000000   \n",
       "mean          23.113167            1.093747              2.946233   \n",
       "std           11.755083            0.729849              2.781087   \n",
       "min            6.000000            1.000000              0.000000   \n",
       "25%           15.000000            1.000000              1.000000   \n",
       "50%           20.000000            1.000000              2.000000   \n",
       "75%           30.000000            1.000000              4.000000   \n",
       "max          118.000000           29.000000             24.000000   \n",
       "\n",
       "       payment_value  seller_zip_code_prefix   review_score  \n",
       "count  115609.000000           115609.000000  115609.000000  \n",
       "mean      172.387379            24515.713958       4.034409  \n",
       "std       265.873969            27636.640968       1.385584  \n",
       "min         0.000000             1001.000000       1.000000  \n",
       "25%        60.870000             6429.000000       4.000000  \n",
       "50%       108.050000            13660.000000       5.000000  \n",
       "75%       189.480000            28605.000000       5.000000  \n",
       "max     13664.080000            99730.000000       5.000000  "
      ]
     },
     "execution_count": 6,
     "metadata": {},
     "output_type": "execute_result"
    }
   ],
   "source": [
    "data.describe()\n"
   ]
  },
  {
   "cell_type": "code",
   "execution_count": null,
   "id": "7dbf7114",
   "metadata": {},
   "outputs": [],
   "source": []
  },
  {
   "cell_type": "code",
   "execution_count": 31,
   "id": "f2c0ec8a",
   "metadata": {},
   "outputs": [
    {
     "data": {
      "text/plain": [
       "5    65374\n",
       "4    21951\n",
       "1    14546\n",
       "3     9718\n",
       "2     4020\n",
       "Name: review_score, dtype: int64"
      ]
     },
     "execution_count": 31,
     "metadata": {},
     "output_type": "execute_result"
    }
   ],
   "source": [
    "data['review_score'].value_counts()"
   ]
  },
  {
   "cell_type": "code",
   "execution_count": 35,
   "id": "8e94e44d",
   "metadata": {},
   "outputs": [
    {
     "data": {
      "text/plain": [
       "115609"
      ]
     },
     "execution_count": 35,
     "metadata": {},
     "output_type": "execute_result"
    }
   ],
   "source": [
    "data['review_score'].count()"
   ]
  },
  {
   "cell_type": "code",
   "execution_count": 40,
   "id": "9517e90c",
   "metadata": {},
   "outputs": [
    {
     "data": {
      "text/plain": [
       "5    56.547501\n",
       "4    18.987276\n",
       "1    12.582065\n",
       "3     8.405920\n",
       "2     3.477238\n",
       "Name: review_score, dtype: float64"
      ]
     },
     "execution_count": 40,
     "metadata": {},
     "output_type": "execute_result"
    },
    {
     "data": {
      "image/png": "[encoded data removed]",
      "text/plain": [
       "<Figure size 432x288 with 1 Axes>"
      ]
     },
     "metadata": {
      "needs_background": "light"
     },
     "output_type": "display_data"
    }
   ],
   "source": [
    "\n",
    "sns.countplot(data['review_score'])\n",
    "data['review_score'].value_counts()/data['review_score'].count() *100"
   ]
  },
  {
   "cell_type": "code",
   "execution_count": null,
   "id": "247ed854",
   "metadata": {},
   "outputs": [],
   "source": []
  },
  {
   "cell_type": "markdown",
   "id": "6ff57f34",
   "metadata": {},
   "source": [
    "## Finding the customers generating most revenue"
   ]
  },
  {
   "cell_type": "code",
   "execution_count": 52,
   "id": "b24bf824",
   "metadata": {},
   "outputs": [],
   "source": [
    "top_customer=data.groupby('customer_unique_id')[\"payment_value\"].sum().reset_index().sort_values(\"payment_value\",ascending=False)"
   ]
  },
  {
   "cell_type": "code",
   "execution_count": 53,
   "id": "462d15ab",
   "metadata": {},
   "outputs": [
    {
     "data": {
      "text/html": [
       "<div>\n",
       "<style scoped>\n",
       "    .dataframe tbody tr th:only-of-type {\n",
       "        vertical-align: middle;\n",
       "    }\n",
       "\n",
       "    .dataframe tbody tr th {\n",
       "        vertical-align: top;\n",
       "    }\n",
       "\n",
       "    .dataframe thead th {\n",
       "        text-align: right;\n",
       "    }\n",
       "</style>\n",
       "<table border=\"1\" class=\"dataframe\">\n",
       "  <thead>\n",
       "    <tr style=\"text-align: right;\">\n",
       "      <th></th>\n",
       "      <th>customer_unique_id</th>\n",
       "      <th>payment_value</th>\n",
       "    </tr>\n",
       "  </thead>\n",
       "  <tbody>\n",
       "    <tr>\n",
       "      <th>3724</th>\n",
       "      <td>0a0a92112bd4c708ca5fde585afaa872</td>\n",
       "      <td>109312.64</td>\n",
       "    </tr>\n",
       "    <tr>\n",
       "      <th>71634</th>\n",
       "      <td>c402f431464c72e27330a67f7b94d4fb</td>\n",
       "      <td>44048.00</td>\n",
       "    </tr>\n",
       "    <tr>\n",
       "      <th>23445</th>\n",
       "      <td>4007669dec559734d6f53e029e360987</td>\n",
       "      <td>36489.24</td>\n",
       "    </tr>\n",
       "    <tr>\n",
       "      <th>87489</th>\n",
       "      <td>ef8d54b3797ea4db1d63f0ced6a906e9</td>\n",
       "      <td>30186.00</td>\n",
       "    </tr>\n",
       "    <tr>\n",
       "      <th>43207</th>\n",
       "      <td>763c8b1c9c68a0229c42c9fc6f662b93</td>\n",
       "      <td>29099.52</td>\n",
       "    </tr>\n",
       "    <tr>\n",
       "      <th>...</th>\n",
       "      <td>...</td>\n",
       "      <td>...</td>\n",
       "    </tr>\n",
       "    <tr>\n",
       "      <th>40726</th>\n",
       "      <td>6f5b9d1cdccc4d28f0483a612edecacf</td>\n",
       "      <td>11.63</td>\n",
       "    </tr>\n",
       "    <tr>\n",
       "      <th>14826</th>\n",
       "      <td>2878e5b88167faab17d4fb83a986d38b</td>\n",
       "      <td>11.63</td>\n",
       "    </tr>\n",
       "    <tr>\n",
       "      <th>65527</th>\n",
       "      <td>b33336f46234b24a613ad9064d13106d</td>\n",
       "      <td>10.89</td>\n",
       "    </tr>\n",
       "    <tr>\n",
       "      <th>69097</th>\n",
       "      <td>bd06ce0e06ad77a7f681f1a4960a3cc6</td>\n",
       "      <td>10.07</td>\n",
       "    </tr>\n",
       "    <tr>\n",
       "      <th>18134</th>\n",
       "      <td>317cfc692e3f86c45c95697c61c853a6</td>\n",
       "      <td>9.59</td>\n",
       "    </tr>\n",
       "  </tbody>\n",
       "</table>\n",
       "<p>93396 rows × 2 columns</p>\n",
       "</div>"
      ],
      "text/plain": [
       "                     customer_unique_id  payment_value\n",
       "3724   0a0a92112bd4c708ca5fde585afaa872      109312.64\n",
       "71634  c402f431464c72e27330a67f7b94d4fb       44048.00\n",
       "23445  4007669dec559734d6f53e029e360987       36489.24\n",
       "87489  ef8d54b3797ea4db1d63f0ced6a906e9       30186.00\n",
       "43207  763c8b1c9c68a0229c42c9fc6f662b93       29099.52\n",
       "...                                 ...            ...\n",
       "40726  6f5b9d1cdccc4d28f0483a612edecacf          11.63\n",
       "14826  2878e5b88167faab17d4fb83a986d38b          11.63\n",
       "65527  b33336f46234b24a613ad9064d13106d          10.89\n",
       "69097  bd06ce0e06ad77a7f681f1a4960a3cc6          10.07\n",
       "18134  317cfc692e3f86c45c95697c61c853a6           9.59\n",
       "\n",
       "[93396 rows x 2 columns]"
      ]
     },
     "execution_count": 53,
     "metadata": {},
     "output_type": "execute_result"
    }
   ],
   "source": [
    "top_customer"
   ]
  },
  {
   "cell_type": "code",
   "execution_count": 55,
   "id": "7f5b06e2",
   "metadata": {},
   "outputs": [
    {
     "data": {
      "text/plain": [
       "3724     0.548496\n",
       "71634    0.221019\n",
       "23445    0.183091\n",
       "87489    0.151464\n",
       "43207    0.146012\n",
       "           ...   \n",
       "40726    0.000058\n",
       "14826    0.000058\n",
       "65527    0.000055\n",
       "69097    0.000051\n",
       "18134    0.000048\n",
       "Name: % of sales, Length: 93396, dtype: float64"
      ]
     },
     "execution_count": 55,
     "metadata": {},
     "output_type": "execute_result"
    }
   ],
   "source": [
    "# Percentage\n",
    "\n",
    "top_customer[\"% of sales\"]=top_customer[\"payment_value\"]/(top_customer[\"payment_value\"].sum()) * 100\n",
    "\n",
    "top_customer[\"% of sales\"]"
   ]
  },
  {
   "cell_type": "code",
   "execution_count": null,
   "id": "d3b5bd7c",
   "metadata": {},
   "outputs": [],
   "source": []
  },
  {
   "cell_type": "markdown",
   "id": "8d9a69b6",
   "metadata": {},
   "source": [
    "## Who are the top customers?"
   ]
  },
  {
   "cell_type": "code",
   "execution_count": 57,
   "id": "dbff3858",
   "metadata": {},
   "outputs": [
    {
     "data": {
      "text/plain": [
       "Text(0.5, 1.0, 'Top 10 Customers by total paid')"
      ]
     },
     "execution_count": 57,
     "metadata": {},
     "output_type": "execute_result"
    },
    {
     "data": {
      "image/png": "[encoded data removed]",
      "text/plain": [
       "<Figure size 432x288 with 1 Axes>"
      ]
     },
     "metadata": {
      "needs_background": "light"
     },
     "output_type": "display_data"
    }
   ],
   "source": [
    "top_customer.rename(columns={'payment_value':'total_paid'}, inplace= True)\n",
    "ax = sns.barplot(x=\"total_paid\", y=\"customer_unique_id\", data=top_customer[:10])\n",
    "ax.set_title(\"Top 10 Customers by total paid\")"
   ]
  },
  {
   "cell_type": "markdown",
   "id": "ea542b03",
   "metadata": {},
   "source": [
    "## Top category products"
   ]
  },
  {
   "cell_type": "code",
   "execution_count": 60,
   "id": "5917a984",
   "metadata": {},
   "outputs": [
    {
     "data": {
      "text/plain": [
       "cama_mesa_banho                  11847\n",
       "beleza_saude                      9944\n",
       "esporte_lazer                     8942\n",
       "moveis_decoracao                  8743\n",
       "informatica_acessorios            8105\n",
       "                                 ...  \n",
       "artes_e_artesanato                  24\n",
       "la_cuisine                          15\n",
       "cds_dvds_musicais                   14\n",
       "fashion_roupa_infanto_juvenil        8\n",
       "seguros_e_servicos                   2\n",
       "Name: product_category_name, Length: 71, dtype: int64"
      ]
     },
     "execution_count": 60,
     "metadata": {},
     "output_type": "execute_result"
    }
   ],
   "source": [
    "data['product_category_name'].value_counts()"
   ]
  },
  {
   "cell_type": "code",
   "execution_count": 61,
   "id": "e69bcc4c",
   "metadata": {},
   "outputs": [
    {
     "data": {
      "text/plain": [
       "cama_mesa_banho                  10.247472\n",
       "beleza_saude                      8.601406\n",
       "esporte_lazer                     7.734692\n",
       "moveis_decoracao                  7.562560\n",
       "informatica_acessorios            7.010700\n",
       "                                   ...    \n",
       "artes_e_artesanato                0.020760\n",
       "la_cuisine                        0.012975\n",
       "cds_dvds_musicais                 0.012110\n",
       "fashion_roupa_infanto_juvenil     0.006920\n",
       "seguros_e_servicos                0.001730\n",
       "Name: product_category_name, Length: 71, dtype: float64"
      ]
     },
     "execution_count": 61,
     "metadata": {},
     "output_type": "execute_result"
    },
    {
     "data": {
      "image/png": "[encoded data removed]",
      "text/plain": [
       "<Figure size 432x288 with 1 Axes>"
      ]
     },
     "metadata": {
      "needs_background": "light"
     },
     "output_type": "display_data"
    }
   ],
   "source": [
    "sns.countplot(data['product_category_name'])\n",
    "data['product_category_name'].value_counts()/data['product_category_name'].count() *100"
   ]
  },
  {
   "cell_type": "code",
   "execution_count": null,
   "id": "10e4e8d7",
   "metadata": {},
   "outputs": [],
   "source": []
  },
  {
   "cell_type": "code",
   "execution_count": 6,
   "id": "49844f13",
   "metadata": {},
   "outputs": [
    {
     "data": {
      "text/plain": [
       "4a3ca9315b744ce9f8e9374361493884    2128\n",
       "6560211a19b47992c3666cc44a7e94c0    2111\n",
       "1f50f920176fa81dab994f9023523100    2009\n",
       "cc419e0650a3c5ba77189a1882b7556a    1885\n",
       "da8622b14eb17ae2831f4ac5b9dab84a    1656\n",
       "                                    ... \n",
       "63bc58679c44e8a998792119fd7ad23e       1\n",
       "0b1ca3ef18a63d7eb0c8897fa0849c08       1\n",
       "3e51f9cbe317bc3a88f2c76583811ee4       1\n",
       "c8143b3069f6746a77421b5ce30a450c       1\n",
       "b6f52e346160519c24a23af05410ad32       1\n",
       "Name: seller_id, Length: 3028, dtype: int64"
      ]
     },
     "execution_count": 6,
     "metadata": {},
     "output_type": "execute_result"
    }
   ],
   "source": [
    "data['seller_id'].value_counts()"
   ]
  },
  {
   "cell_type": "code",
   "execution_count": 7,
   "id": "dab3c262",
   "metadata": {},
   "outputs": [
    {
     "data": {
      "text/plain": [
       "115609"
      ]
     },
     "execution_count": 7,
     "metadata": {},
     "output_type": "execute_result"
    }
   ],
   "source": [
    "data['seller_id'].count()"
   ]
  },
  {
   "cell_type": "code",
   "execution_count": 9,
   "id": "3343dc47",
   "metadata": {},
   "outputs": [
    {
     "data": {
      "text/plain": [
       "4a3ca9315b744ce9f8e9374361493884    1.840687\n",
       "6560211a19b47992c3666cc44a7e94c0    1.825982\n",
       "1f50f920176fa81dab994f9023523100    1.737754\n",
       "cc419e0650a3c5ba77189a1882b7556a    1.630496\n",
       "da8622b14eb17ae2831f4ac5b9dab84a    1.432414\n",
       "                                      ...   \n",
       "63bc58679c44e8a998792119fd7ad23e    0.000865\n",
       "0b1ca3ef18a63d7eb0c8897fa0849c08    0.000865\n",
       "3e51f9cbe317bc3a88f2c76583811ee4    0.000865\n",
       "c8143b3069f6746a77421b5ce30a450c    0.000865\n",
       "b6f52e346160519c24a23af05410ad32    0.000865\n",
       "Name: seller_id, Length: 3028, dtype: float64"
      ]
     },
     "execution_count": 9,
     "metadata": {},
     "output_type": "execute_result"
    }
   ],
   "source": [
    "\n",
    "data['seller_id'].value_counts()/data['seller_id'].count() *100"
   ]
  },
  {
   "cell_type": "code",
   "execution_count": null,
   "id": "3276ea4e",
   "metadata": {},
   "outputs": [],
   "source": []
  },
  {
   "cell_type": "markdown",
   "id": "578da622",
   "metadata": {},
   "source": [
    "## Cities with highest revenue generation"
   ]
  },
  {
   "cell_type": "code",
   "execution_count": 7,
   "id": "81fa2d3d",
   "metadata": {},
   "outputs": [],
   "source": [
    "top_city=data.groupby('customer_city')[\"payment_value\"].sum().reset_index().sort_values(\"payment_value\",ascending=False)"
   ]
  },
  {
   "cell_type": "code",
   "execution_count": 8,
   "id": "6637ea0a",
   "metadata": {},
   "outputs": [
    {
     "data": {
      "text/html": [
       "<div>\n",
       "<style scoped>\n",
       "    .dataframe tbody tr th:only-of-type {\n",
       "        vertical-align: middle;\n",
       "    }\n",
       "\n",
       "    .dataframe tbody tr th {\n",
       "        vertical-align: top;\n",
       "    }\n",
       "\n",
       "    .dataframe thead th {\n",
       "        text-align: right;\n",
       "    }\n",
       "</style>\n",
       "<table border=\"1\" class=\"dataframe\">\n",
       "  <thead>\n",
       "    <tr style=\"text-align: right;\">\n",
       "      <th></th>\n",
       "      <th>customer_city</th>\n",
       "      <th>payment_value</th>\n",
       "    </tr>\n",
       "  </thead>\n",
       "  <tbody>\n",
       "    <tr>\n",
       "      <th>3574</th>\n",
       "      <td>sao paulo</td>\n",
       "      <td>2807526.03</td>\n",
       "    </tr>\n",
       "    <tr>\n",
       "      <th>3135</th>\n",
       "      <td>rio de janeiro</td>\n",
       "      <td>1536347.93</td>\n",
       "    </tr>\n",
       "    <tr>\n",
       "      <th>451</th>\n",
       "      <td>belo horizonte</td>\n",
       "      <td>492767.96</td>\n",
       "    </tr>\n",
       "    <tr>\n",
       "      <th>556</th>\n",
       "      <td>brasilia</td>\n",
       "      <td>428036.30</td>\n",
       "    </tr>\n",
       "    <tr>\n",
       "      <th>1139</th>\n",
       "      <td>curitiba</td>\n",
       "      <td>327886.88</td>\n",
       "    </tr>\n",
       "    <tr>\n",
       "      <th>...</th>\n",
       "      <td>...</td>\n",
       "      <td>...</td>\n",
       "    </tr>\n",
       "    <tr>\n",
       "      <th>3383</th>\n",
       "      <td>santo antonio do rio abaixo</td>\n",
       "      <td>24.23</td>\n",
       "    </tr>\n",
       "    <tr>\n",
       "      <th>3770</th>\n",
       "      <td>tamboara</td>\n",
       "      <td>24.09</td>\n",
       "    </tr>\n",
       "    <tr>\n",
       "      <th>1947</th>\n",
       "      <td>jenipapo de minas</td>\n",
       "      <td>22.58</td>\n",
       "    </tr>\n",
       "    <tr>\n",
       "      <th>2908</th>\n",
       "      <td>polo petroquimico de triunfo</td>\n",
       "      <td>20.70</td>\n",
       "    </tr>\n",
       "    <tr>\n",
       "      <th>3201</th>\n",
       "      <td>sabaudia</td>\n",
       "      <td>20.42</td>\n",
       "    </tr>\n",
       "  </tbody>\n",
       "</table>\n",
       "<p>4093 rows × 2 columns</p>\n",
       "</div>"
      ],
      "text/plain": [
       "                     customer_city  payment_value\n",
       "3574                     sao paulo     2807526.03\n",
       "3135                rio de janeiro     1536347.93\n",
       "451                 belo horizonte      492767.96\n",
       "556                       brasilia      428036.30\n",
       "1139                      curitiba      327886.88\n",
       "...                            ...            ...\n",
       "3383   santo antonio do rio abaixo          24.23\n",
       "3770                      tamboara          24.09\n",
       "1947             jenipapo de minas          22.58\n",
       "2908  polo petroquimico de triunfo          20.70\n",
       "3201                      sabaudia          20.42\n",
       "\n",
       "[4093 rows x 2 columns]"
      ]
     },
     "execution_count": 8,
     "metadata": {},
     "output_type": "execute_result"
    }
   ],
   "source": [
    "top_city"
   ]
  },
  {
   "cell_type": "code",
   "execution_count": 9,
   "id": "101f4a5a",
   "metadata": {},
   "outputs": [
    {
     "data": {
      "text/plain": [
       "3574    14.087265\n",
       "3135     7.708901\n",
       "451      2.472552\n",
       "556      2.147749\n",
       "1139     1.645231\n",
       "          ...    \n",
       "3383     0.000122\n",
       "3770     0.000121\n",
       "1947     0.000113\n",
       "2908     0.000104\n",
       "3201     0.000102\n",
       "Name: % of sales, Length: 4093, dtype: float64"
      ]
     },
     "execution_count": 9,
     "metadata": {},
     "output_type": "execute_result"
    }
   ],
   "source": [
    "# Percentage\n",
    "\n",
    "top_city[\"% of sales\"]=top_city[\"payment_value\"]/(top_city[\"payment_value\"].sum()) * 100\n",
    "\n",
    "top_city[\"% of sales\"]"
   ]
  },
  {
   "cell_type": "code",
   "execution_count": 10,
   "id": "7e16fa04",
   "metadata": {},
   "outputs": [
    {
     "data": {
      "text/plain": [
       "Text(0.5, 1.0, 'TOP 10 cities by revenue generation')"
      ]
     },
     "execution_count": 10,
     "metadata": {},
     "output_type": "execute_result"
    },
    {
     "data": {
      "image/png": "[encoded data removed]",
      "text/plain": [
       "<Figure size 432x288 with 1 Axes>"
      ]
     },
     "metadata": {
      "needs_background": "light"
     },
     "output_type": "display_data"
    }
   ],
   "source": [
    "ax = sns.barplot(x=\"payment_value\", y=\"customer_city\", data=top_city[:10])\n",
    "ax.set_title(\"TOP 10 cities by revenue generation\")"
   ]
  },
  {
   "cell_type": "code",
   "execution_count": null,
   "id": "18b5e5cf",
   "metadata": {},
   "outputs": [],
   "source": []
  },
  {
   "cell_type": "markdown",
   "id": "9150c4d7",
   "metadata": {},
   "source": [
    "## Rating of products"
   ]
  },
  {
   "cell_type": "code",
   "execution_count": 22,
   "id": "ac97bf31",
   "metadata": {},
   "outputs": [
    {
     "data": {
      "text/html": [
       "<div>\n",
       "<style scoped>\n",
       "    .dataframe tbody tr th:only-of-type {\n",
       "        vertical-align: middle;\n",
       "    }\n",
       "\n",
       "    .dataframe tbody tr th {\n",
       "        vertical-align: top;\n",
       "    }\n",
       "\n",
       "    .dataframe thead th {\n",
       "        text-align: right;\n",
       "    }\n",
       "</style>\n",
       "<table border=\"1\" class=\"dataframe\">\n",
       "  <thead>\n",
       "    <tr style=\"text-align: right;\">\n",
       "      <th></th>\n",
       "      <th>mean</th>\n",
       "      <th>count</th>\n",
       "    </tr>\n",
       "    <tr>\n",
       "      <th>product_category_name_english</th>\n",
       "      <th></th>\n",
       "      <th></th>\n",
       "    </tr>\n",
       "  </thead>\n",
       "  <tbody>\n",
       "    <tr>\n",
       "      <th>cds_dvds_musicals</th>\n",
       "      <td>4.642857</td>\n",
       "      <td>14</td>\n",
       "    </tr>\n",
       "    <tr>\n",
       "      <th>fashion_childrens_clothes</th>\n",
       "      <td>4.500000</td>\n",
       "      <td>8</td>\n",
       "    </tr>\n",
       "    <tr>\n",
       "      <th>books_general_interest</th>\n",
       "      <td>4.438503</td>\n",
       "      <td>561</td>\n",
       "    </tr>\n",
       "    <tr>\n",
       "      <th>books_imported</th>\n",
       "      <td>4.419355</td>\n",
       "      <td>62</td>\n",
       "    </tr>\n",
       "    <tr>\n",
       "      <th>flowers</th>\n",
       "      <td>4.419355</td>\n",
       "      <td>31</td>\n",
       "    </tr>\n",
       "    <tr>\n",
       "      <th>...</th>\n",
       "      <td>...</td>\n",
       "      <td>...</td>\n",
       "    </tr>\n",
       "    <tr>\n",
       "      <th>home_comfort_2</th>\n",
       "      <td>3.642857</td>\n",
       "      <td>28</td>\n",
       "    </tr>\n",
       "    <tr>\n",
       "      <th>fashion_male_clothing</th>\n",
       "      <td>3.548611</td>\n",
       "      <td>144</td>\n",
       "    </tr>\n",
       "    <tr>\n",
       "      <th>office_furniture</th>\n",
       "      <td>3.526791</td>\n",
       "      <td>1773</td>\n",
       "    </tr>\n",
       "    <tr>\n",
       "      <th>diapers_and_hygiene</th>\n",
       "      <td>3.256410</td>\n",
       "      <td>39</td>\n",
       "    </tr>\n",
       "    <tr>\n",
       "      <th>security_and_services</th>\n",
       "      <td>2.500000</td>\n",
       "      <td>2</td>\n",
       "    </tr>\n",
       "  </tbody>\n",
       "</table>\n",
       "<p>71 rows × 2 columns</p>\n",
       "</div>"
      ],
      "text/plain": [
       "                                   mean  count\n",
       "product_category_name_english                 \n",
       "cds_dvds_musicals              4.642857     14\n",
       "fashion_childrens_clothes      4.500000      8\n",
       "books_general_interest         4.438503    561\n",
       "books_imported                 4.419355     62\n",
       "flowers                        4.419355     31\n",
       "...                                 ...    ...\n",
       "home_comfort_2                 3.642857     28\n",
       "fashion_male_clothing          3.548611    144\n",
       "office_furniture               3.526791   1773\n",
       "diapers_and_hygiene            3.256410     39\n",
       "security_and_services          2.500000      2\n",
       "\n",
       "[71 rows x 2 columns]"
      ]
     },
     "execution_count": 22,
     "metadata": {},
     "output_type": "execute_result"
    },
    {
     "data": {
      "text/plain": [
       "<Figure size 864x864 with 0 Axes>"
      ]
     },
     "metadata": {},
     "output_type": "display_data"
    }
   ],
   "source": [
    "plt.figure(figsize=(12,12))\n",
    "top_rating=data.groupby('product_category_name_english')[\"review_score\"].agg([\"mean\", \"count\"]).sort_values(by=\"mean\",ascending=False)\n",
    "\n",
    "top_rating\n"
   ]
  },
  {
   "cell_type": "code",
   "execution_count": 23,
   "id": "ca226f2c",
   "metadata": {},
   "outputs": [
    {
     "data": {
      "text/html": [
       "<div>\n",
       "<style scoped>\n",
       "    .dataframe tbody tr th:only-of-type {\n",
       "        vertical-align: middle;\n",
       "    }\n",
       "\n",
       "    .dataframe tbody tr th {\n",
       "        vertical-align: top;\n",
       "    }\n",
       "\n",
       "    .dataframe thead th {\n",
       "        text-align: right;\n",
       "    }\n",
       "</style>\n",
       "<table border=\"1\" class=\"dataframe\">\n",
       "  <thead>\n",
       "    <tr style=\"text-align: right;\">\n",
       "      <th></th>\n",
       "      <th>mean</th>\n",
       "      <th>count</th>\n",
       "    </tr>\n",
       "    <tr>\n",
       "      <th>product_category_name_english</th>\n",
       "      <th></th>\n",
       "      <th></th>\n",
       "    </tr>\n",
       "  </thead>\n",
       "  <tbody>\n",
       "    <tr>\n",
       "      <th>books_general_interest</th>\n",
       "      <td>4.438503</td>\n",
       "      <td>561</td>\n",
       "    </tr>\n",
       "    <tr>\n",
       "      <th>books_imported</th>\n",
       "      <td>4.419355</td>\n",
       "      <td>62</td>\n",
       "    </tr>\n",
       "    <tr>\n",
       "      <th>flowers</th>\n",
       "      <td>4.419355</td>\n",
       "      <td>31</td>\n",
       "    </tr>\n",
       "    <tr>\n",
       "      <th>costruction_tools_tools</th>\n",
       "      <td>4.415842</td>\n",
       "      <td>101</td>\n",
       "    </tr>\n",
       "    <tr>\n",
       "      <th>books_technical</th>\n",
       "      <td>4.375465</td>\n",
       "      <td>269</td>\n",
       "    </tr>\n",
       "    <tr>\n",
       "      <th>food_drink</th>\n",
       "      <td>4.324138</td>\n",
       "      <td>290</td>\n",
       "    </tr>\n",
       "    <tr>\n",
       "      <th>small_appliances_home_oven_and_coffee</th>\n",
       "      <td>4.320513</td>\n",
       "      <td>78</td>\n",
       "    </tr>\n",
       "    <tr>\n",
       "      <th>luggage_accessories</th>\n",
       "      <td>4.295945</td>\n",
       "      <td>1159</td>\n",
       "    </tr>\n",
       "    <tr>\n",
       "      <th>fashion_sport</th>\n",
       "      <td>4.258065</td>\n",
       "      <td>31</td>\n",
       "    </tr>\n",
       "    <tr>\n",
       "      <th>food</th>\n",
       "      <td>4.228963</td>\n",
       "      <td>511</td>\n",
       "    </tr>\n",
       "  </tbody>\n",
       "</table>\n",
       "</div>"
      ],
      "text/plain": [
       "                                           mean  count\n",
       "product_category_name_english                         \n",
       "books_general_interest                 4.438503    561\n",
       "books_imported                         4.419355     62\n",
       "flowers                                4.419355     31\n",
       "costruction_tools_tools                4.415842    101\n",
       "books_technical                        4.375465    269\n",
       "food_drink                             4.324138    290\n",
       "small_appliances_home_oven_and_coffee  4.320513     78\n",
       "luggage_accessories                    4.295945   1159\n",
       "fashion_sport                          4.258065     31\n",
       "food                                   4.228963    511"
      ]
     },
     "execution_count": 23,
     "metadata": {},
     "output_type": "execute_result"
    }
   ],
   "source": [
    "bestrated = top_rating[top_rating[\"count\"]>=30][:10]\n",
    "bestrated"
   ]
  },
  {
   "cell_type": "code",
   "execution_count": 24,
   "id": "ce743a1c",
   "metadata": {},
   "outputs": [
    {
     "data": {
      "text/html": [
       "<div>\n",
       "<style scoped>\n",
       "    .dataframe tbody tr th:only-of-type {\n",
       "        vertical-align: middle;\n",
       "    }\n",
       "\n",
       "    .dataframe tbody tr th {\n",
       "        vertical-align: top;\n",
       "    }\n",
       "\n",
       "    .dataframe thead th {\n",
       "        text-align: right;\n",
       "    }\n",
       "</style>\n",
       "<table border=\"1\" class=\"dataframe\">\n",
       "  <thead>\n",
       "    <tr style=\"text-align: right;\">\n",
       "      <th></th>\n",
       "      <th>mean</th>\n",
       "      <th>count</th>\n",
       "    </tr>\n",
       "    <tr>\n",
       "      <th>product_category_name_english</th>\n",
       "      <th></th>\n",
       "      <th></th>\n",
       "    </tr>\n",
       "  </thead>\n",
       "  <tbody>\n",
       "    <tr>\n",
       "      <th>diapers_and_hygiene</th>\n",
       "      <td>3.256410</td>\n",
       "      <td>39</td>\n",
       "    </tr>\n",
       "    <tr>\n",
       "      <th>office_furniture</th>\n",
       "      <td>3.526791</td>\n",
       "      <td>1773</td>\n",
       "    </tr>\n",
       "    <tr>\n",
       "      <th>fashion_male_clothing</th>\n",
       "      <td>3.548611</td>\n",
       "      <td>144</td>\n",
       "    </tr>\n",
       "    <tr>\n",
       "      <th>fixed_telephony</th>\n",
       "      <td>3.672862</td>\n",
       "      <td>269</td>\n",
       "    </tr>\n",
       "    <tr>\n",
       "      <th>fashio_female_clothing</th>\n",
       "      <td>3.780000</td>\n",
       "      <td>50</td>\n",
       "    </tr>\n",
       "    <tr>\n",
       "      <th>furniture_mattress_and_upholstery</th>\n",
       "      <td>3.804878</td>\n",
       "      <td>41</td>\n",
       "    </tr>\n",
       "    <tr>\n",
       "      <th>audio</th>\n",
       "      <td>3.840849</td>\n",
       "      <td>377</td>\n",
       "    </tr>\n",
       "    <tr>\n",
       "      <th>furniture_bedroom</th>\n",
       "      <td>3.841270</td>\n",
       "      <td>126</td>\n",
       "    </tr>\n",
       "    <tr>\n",
       "      <th>party_supplies</th>\n",
       "      <td>3.847826</td>\n",
       "      <td>46</td>\n",
       "    </tr>\n",
       "    <tr>\n",
       "      <th>construction_tools_safety</th>\n",
       "      <td>3.848485</td>\n",
       "      <td>198</td>\n",
       "    </tr>\n",
       "  </tbody>\n",
       "</table>\n",
       "</div>"
      ],
      "text/plain": [
       "                                       mean  count\n",
       "product_category_name_english                     \n",
       "diapers_and_hygiene                3.256410     39\n",
       "office_furniture                   3.526791   1773\n",
       "fashion_male_clothing              3.548611    144\n",
       "fixed_telephony                    3.672862    269\n",
       "fashio_female_clothing             3.780000     50\n",
       "furniture_mattress_and_upholstery  3.804878     41\n",
       "audio                              3.840849    377\n",
       "furniture_bedroom                  3.841270    126\n",
       "party_supplies                     3.847826     46\n",
       "construction_tools_safety          3.848485    198"
      ]
     },
     "execution_count": 24,
     "metadata": {},
     "output_type": "execute_result"
    }
   ],
   "source": [
    "# Bottom 10 Products by review socre\n",
    "worstrated = top_rating[top_rating[\"count\"]>=30].sort_values(by='mean')[:10]\n",
    "worstrated"
   ]
  },
  {
   "cell_type": "code",
   "execution_count": null,
   "id": "d0f3ece7",
   "metadata": {},
   "outputs": [],
   "source": []
  },
  {
   "cell_type": "markdown",
   "id": "8c1a11a1",
   "metadata": {},
   "source": [
    "## Is there any relationship between delivery time and review scores\n"
   ]
  },
  {
   "cell_type": "code",
   "execution_count": 26,
   "id": "2844ba74",
   "metadata": {},
   "outputs": [
    {
     "data": {
      "text/plain": [
       "0         2017-10-10 21:25:13\n",
       "1         2017-10-10 21:25:13\n",
       "2         2017-10-10 21:25:13\n",
       "3         2017-08-18 14:44:43\n",
       "4         2017-08-07 18:30:01\n",
       "                 ...         \n",
       "115604    2018-08-24 13:06:25\n",
       "115605    2018-08-03 17:46:46\n",
       "115606    2018-08-28 02:06:35\n",
       "115607    2018-07-27 14:04:10\n",
       "115608    2018-07-27 14:04:10\n",
       "Name: order_delivered_customer_date, Length: 115609, dtype: object"
      ]
     },
     "execution_count": 26,
     "metadata": {},
     "output_type": "execute_result"
    }
   ],
   "source": [
    "data[\"order_delivered_customer_date\"] "
   ]
  },
  {
   "cell_type": "code",
   "execution_count": 26,
   "id": "7b7b2dd0",
   "metadata": {},
   "outputs": [
    {
     "data": {
      "text/plain": [
       "0         2017-10-02 11:07:15\n",
       "1         2017-10-02 11:07:15\n",
       "2         2017-10-02 11:07:15\n",
       "3         2017-08-15 20:05:16\n",
       "4         2017-08-02 18:43:15\n",
       "                 ...         \n",
       "115604    2018-08-21 11:50:47\n",
       "115605    2018-07-29 18:30:31\n",
       "115606    2018-08-24 03:24:24\n",
       "115607    2018-07-24 10:31:25\n",
       "115608    2018-07-24 10:31:25\n",
       "Name: order_approved_at, Length: 115609, dtype: object"
      ]
     },
     "execution_count": 26,
     "metadata": {},
     "output_type": "execute_result"
    }
   ],
   "source": [
    "data[\"order_approved_at\"]"
   ]
  },
  {
   "cell_type": "code",
   "execution_count": 27,
   "id": "a3a5affa",
   "metadata": {},
   "outputs": [
    {
     "data": {
      "text/plain": [
       "0         2017-10-02 10:56:33\n",
       "1         2017-10-02 10:56:33\n",
       "2         2017-10-02 10:56:33\n",
       "3         2017-08-15 18:29:31\n",
       "4         2017-08-02 18:24:47\n",
       "                 ...         \n",
       "115604    2018-08-21 11:29:05\n",
       "115605    2018-07-28 17:55:27\n",
       "115606    2018-08-23 12:31:37\n",
       "115607    2018-07-23 18:35:14\n",
       "115608    2018-07-23 18:35:14\n",
       "Name: order_purchase_timestamp, Length: 115609, dtype: object"
      ]
     },
     "execution_count": 27,
     "metadata": {},
     "output_type": "execute_result"
    }
   ],
   "source": [
    "data[\"order_purchase_timestamp\"]"
   ]
  },
  {
   "cell_type": "code",
   "execution_count": 27,
   "id": "591c39b3",
   "metadata": {},
   "outputs": [
    {
     "data": {
      "text/plain": [
       "0         2017-10-04 19:55:00\n",
       "1         2017-10-04 19:55:00\n",
       "2         2017-10-04 19:55:00\n",
       "3         2017-08-17 15:28:33\n",
       "4         2017-08-04 17:35:43\n",
       "                 ...         \n",
       "115604    2018-08-21 15:37:00\n",
       "115605    2018-07-30 14:54:00\n",
       "115606    2018-08-24 15:14:00\n",
       "115607    2018-07-24 14:37:00\n",
       "115608    2018-07-24 14:37:00\n",
       "Name: order_delivered_carrier_date, Length: 115609, dtype: object"
      ]
     },
     "execution_count": 27,
     "metadata": {},
     "output_type": "execute_result"
    }
   ],
   "source": [
    "data[\"order_delivered_carrier_date\"] "
   ]
  },
  {
   "cell_type": "code",
   "execution_count": 29,
   "id": "a69f82db",
   "metadata": {},
   "outputs": [
    {
     "data": {
      "text/plain": [
       "0         2017-10-18 00:00:00\n",
       "1         2017-10-18 00:00:00\n",
       "2         2017-10-18 00:00:00\n",
       "3         2017-08-28 00:00:00\n",
       "4         2017-08-15 00:00:00\n",
       "                 ...         \n",
       "115604    2018-09-06 00:00:00\n",
       "115605    2018-08-16 00:00:00\n",
       "115606    2018-09-03 00:00:00\n",
       "115607    2018-08-06 00:00:00\n",
       "115608    2018-08-06 00:00:00\n",
       "Name: order_estimated_delivery_date, Length: 115609, dtype: object"
      ]
     },
     "execution_count": 29,
     "metadata": {},
     "output_type": "execute_result"
    }
   ],
   "source": [
    "data[\"order_estimated_delivery_date\"]"
   ]
  },
  {
   "cell_type": "code",
   "execution_count": 7,
   "id": "97a711c3",
   "metadata": {},
   "outputs": [
    {
     "name": "stdout",
     "output_type": "stream",
     "text": [
      "Average time taken for the order to get approved: 14344.27 seconds\n",
      "Average time taken for the order to be passed to the logistic partner: 2 days\n",
      "Average time taken for the order to be delivered by the logistic partner: 9 days\n",
      "Average time taken between estimated delivery date and actual delivery date: 11 days\n"
     ]
    }
   ],
   "source": [
    "\n",
    "data['diff_app_pur'] = (pd.to_datetime(data.order_approved_at) - pd.to_datetime(data.order_purchase_timestamp)).dt.seconds\n",
    "data['diff_car_app'] = (pd.to_datetime(data.order_delivered_carrier_date) - pd.to_datetime(data.order_approved_at)).dt.days\n",
    "data['diff_del_car'] = (pd.to_datetime(data.order_delivered_customer_date) - pd.to_datetime(data.order_delivered_carrier_date)).dt.days\n",
    "data['diff_est_act'] = (pd.to_datetime(data.order_estimated_delivery_date) - pd.to_datetime(data.order_delivered_customer_date)).dt.days\n",
    "\n",
    "\n",
    "print(str.format('Average time taken for the order to get approved: {:.2f} seconds', data.diff_app_pur.mean()))\n",
    "print(str.format('Average time taken for the order to be passed to the logistic partner: {:.0f} days', data.diff_car_app.mean()))\n",
    "print(str.format('Average time taken for the order to be delivered by the logistic partner: {:.0f} days', data.diff_del_car.mean()))\n",
    "print(str.format('Average time taken between estimated delivery date and actual delivery date: {:.0f} days', data.diff_est_act.mean()))\n"
   ]
  },
  {
   "cell_type": "code",
   "execution_count": 8,
   "id": "89d4f5c5",
   "metadata": {},
   "outputs": [
    {
     "name": "stdout",
     "output_type": "stream",
     "text": [
      "Average time taken for the order to get delivered: 12 days\n"
     ]
    }
   ],
   "source": [
    "data['diff_del_pur'] = (pd.to_datetime(data.order_delivered_customer_date) - pd.to_datetime(data.order_purchase_timestamp)).dt.days\n",
    "\n",
    "print(str.format('Average time taken for the order to get delivered: {:.0f} days', data.diff_del_pur.mean()))"
   ]
  },
  {
   "cell_type": "code",
   "execution_count": null,
   "id": "e3b9f394",
   "metadata": {},
   "outputs": [],
   "source": []
  },
  {
   "cell_type": "markdown",
   "id": "9a3bebb8",
   "metadata": {},
   "source": [
    "## What are the sellers' cities with lowest/highest delivery time?"
   ]
  },
  {
   "cell_type": "code",
   "execution_count": 37,
   "id": "0b95e181",
   "metadata": {},
   "outputs": [],
   "source": [
    "sellersdeliverytime = data.groupby('seller_city')[\"diff_del_pur\"].agg([\"min\", \"max\", \"mean\", \"std\", \"count\" ]).dropna().sort_values(\"mean\").reset_index()"
   ]
  },
  {
   "cell_type": "code",
   "execution_count": 38,
   "id": "c1db2216",
   "metadata": {},
   "outputs": [],
   "source": [
    "sellersdeliverytime = sellersdeliverytime[sellersdeliverytime[\"count\"]>=30]\n"
   ]
  },
  {
   "cell_type": "code",
   "execution_count": 39,
   "id": "86946526",
   "metadata": {},
   "outputs": [],
   "source": [
    "fastestdeliverysellers = sellersdeliverytime[:10]\n",
    "slowestdeliverysellers = sellersdeliverytime.sort_values(\"mean\", ascending=False)[:10]"
   ]
  },
  {
   "cell_type": "code",
   "execution_count": 40,
   "id": "89f24801",
   "metadata": {},
   "outputs": [
    {
     "data": {
      "text/html": [
       "<div>\n",
       "<style scoped>\n",
       "    .dataframe tbody tr th:only-of-type {\n",
       "        vertical-align: middle;\n",
       "    }\n",
       "\n",
       "    .dataframe tbody tr th {\n",
       "        vertical-align: top;\n",
       "    }\n",
       "\n",
       "    .dataframe thead th {\n",
       "        text-align: right;\n",
       "    }\n",
       "</style>\n",
       "<table border=\"1\" class=\"dataframe\">\n",
       "  <thead>\n",
       "    <tr style=\"text-align: right;\">\n",
       "      <th></th>\n",
       "      <th>seller_city</th>\n",
       "      <th>min</th>\n",
       "      <th>max</th>\n",
       "      <th>mean</th>\n",
       "      <th>std</th>\n",
       "      <th>count</th>\n",
       "    </tr>\n",
       "  </thead>\n",
       "  <tbody>\n",
       "    <tr>\n",
       "      <th>13</th>\n",
       "      <td>varzea paulista</td>\n",
       "      <td>2.0</td>\n",
       "      <td>21.0</td>\n",
       "      <td>5.243243</td>\n",
       "      <td>3.443233</td>\n",
       "      <td>37</td>\n",
       "    </tr>\n",
       "    <tr>\n",
       "      <th>44</th>\n",
       "      <td>hortolandia</td>\n",
       "      <td>1.0</td>\n",
       "      <td>71.0</td>\n",
       "      <td>7.151429</td>\n",
       "      <td>6.671363</td>\n",
       "      <td>350</td>\n",
       "    </tr>\n",
       "    <tr>\n",
       "      <th>58</th>\n",
       "      <td>ribeirao preto / sao paulo</td>\n",
       "      <td>2.0</td>\n",
       "      <td>27.0</td>\n",
       "      <td>7.625000</td>\n",
       "      <td>4.067933</td>\n",
       "      <td>40</td>\n",
       "    </tr>\n",
       "    <tr>\n",
       "      <th>59</th>\n",
       "      <td>ferraz de vasconcelos</td>\n",
       "      <td>1.0</td>\n",
       "      <td>20.0</td>\n",
       "      <td>7.631579</td>\n",
       "      <td>6.322081</td>\n",
       "      <td>38</td>\n",
       "    </tr>\n",
       "    <tr>\n",
       "      <th>62</th>\n",
       "      <td>rio claro</td>\n",
       "      <td>1.0</td>\n",
       "      <td>34.0</td>\n",
       "      <td>7.710526</td>\n",
       "      <td>6.229709</td>\n",
       "      <td>114</td>\n",
       "    </tr>\n",
       "    <tr>\n",
       "      <th>65</th>\n",
       "      <td>vicente de carvalho</td>\n",
       "      <td>1.0</td>\n",
       "      <td>42.0</td>\n",
       "      <td>7.877828</td>\n",
       "      <td>6.587075</td>\n",
       "      <td>221</td>\n",
       "    </tr>\n",
       "    <tr>\n",
       "      <th>70</th>\n",
       "      <td>poa</td>\n",
       "      <td>1.0</td>\n",
       "      <td>38.0</td>\n",
       "      <td>8.057143</td>\n",
       "      <td>6.023626</td>\n",
       "      <td>175</td>\n",
       "    </tr>\n",
       "    <tr>\n",
       "      <th>72</th>\n",
       "      <td>carazinho</td>\n",
       "      <td>3.0</td>\n",
       "      <td>19.0</td>\n",
       "      <td>8.163934</td>\n",
       "      <td>3.933532</td>\n",
       "      <td>61</td>\n",
       "    </tr>\n",
       "    <tr>\n",
       "      <th>78</th>\n",
       "      <td>betim</td>\n",
       "      <td>1.0</td>\n",
       "      <td>53.0</td>\n",
       "      <td>8.375796</td>\n",
       "      <td>6.231851</td>\n",
       "      <td>314</td>\n",
       "    </tr>\n",
       "    <tr>\n",
       "      <th>85</th>\n",
       "      <td>maua</td>\n",
       "      <td>1.0</td>\n",
       "      <td>42.0</td>\n",
       "      <td>8.502066</td>\n",
       "      <td>5.454688</td>\n",
       "      <td>484</td>\n",
       "    </tr>\n",
       "  </tbody>\n",
       "</table>\n",
       "</div>"
      ],
      "text/plain": [
       "                   seller_city  min   max      mean       std  count\n",
       "13             varzea paulista  2.0  21.0  5.243243  3.443233     37\n",
       "44                 hortolandia  1.0  71.0  7.151429  6.671363    350\n",
       "58  ribeirao preto / sao paulo  2.0  27.0  7.625000  4.067933     40\n",
       "59       ferraz de vasconcelos  1.0  20.0  7.631579  6.322081     38\n",
       "62                   rio claro  1.0  34.0  7.710526  6.229709    114\n",
       "65         vicente de carvalho  1.0  42.0  7.877828  6.587075    221\n",
       "70                         poa  1.0  38.0  8.057143  6.023626    175\n",
       "72                   carazinho  3.0  19.0  8.163934  3.933532     61\n",
       "78                       betim  1.0  53.0  8.375796  6.231851    314\n",
       "85                        maua  1.0  42.0  8.502066  5.454688    484"
      ]
     },
     "execution_count": 40,
     "metadata": {},
     "output_type": "execute_result"
    }
   ],
   "source": [
    "fastestdeliverysellers"
   ]
  },
  {
   "cell_type": "code",
   "execution_count": 41,
   "id": "d1d4515c",
   "metadata": {},
   "outputs": [
    {
     "data": {
      "text/html": [
       "<div>\n",
       "<style scoped>\n",
       "    .dataframe tbody tr th:only-of-type {\n",
       "        vertical-align: middle;\n",
       "    }\n",
       "\n",
       "    .dataframe tbody tr th {\n",
       "        vertical-align: top;\n",
       "    }\n",
       "\n",
       "    .dataframe thead th {\n",
       "        text-align: right;\n",
       "    }\n",
       "</style>\n",
       "<table border=\"1\" class=\"dataframe\">\n",
       "  <thead>\n",
       "    <tr style=\"text-align: right;\">\n",
       "      <th></th>\n",
       "      <th>seller_city</th>\n",
       "      <th>min</th>\n",
       "      <th>max</th>\n",
       "      <th>mean</th>\n",
       "      <th>std</th>\n",
       "      <th>count</th>\n",
       "    </tr>\n",
       "  </thead>\n",
       "  <tbody>\n",
       "    <tr>\n",
       "      <th>516</th>\n",
       "      <td>mombuca</td>\n",
       "      <td>6.0</td>\n",
       "      <td>88.0</td>\n",
       "      <td>22.575758</td>\n",
       "      <td>17.776442</td>\n",
       "      <td>33</td>\n",
       "    </tr>\n",
       "    <tr>\n",
       "      <th>509</th>\n",
       "      <td>itaquaquecetuba</td>\n",
       "      <td>1.0</td>\n",
       "      <td>194.0</td>\n",
       "      <td>21.383506</td>\n",
       "      <td>12.929833</td>\n",
       "      <td>1734</td>\n",
       "    </tr>\n",
       "    <tr>\n",
       "      <th>507</th>\n",
       "      <td>congonhal</td>\n",
       "      <td>4.0</td>\n",
       "      <td>60.0</td>\n",
       "      <td>21.083333</td>\n",
       "      <td>12.764675</td>\n",
       "      <td>108</td>\n",
       "    </tr>\n",
       "    <tr>\n",
       "      <th>504</th>\n",
       "      <td>balneario camboriu</td>\n",
       "      <td>3.0</td>\n",
       "      <td>79.0</td>\n",
       "      <td>20.258065</td>\n",
       "      <td>17.427885</td>\n",
       "      <td>31</td>\n",
       "    </tr>\n",
       "    <tr>\n",
       "      <th>503</th>\n",
       "      <td>tubarao</td>\n",
       "      <td>6.0</td>\n",
       "      <td>81.0</td>\n",
       "      <td>19.485714</td>\n",
       "      <td>20.325833</td>\n",
       "      <td>35</td>\n",
       "    </tr>\n",
       "    <tr>\n",
       "      <th>497</th>\n",
       "      <td>foz do iguacu</td>\n",
       "      <td>2.0</td>\n",
       "      <td>92.0</td>\n",
       "      <td>18.973958</td>\n",
       "      <td>17.304309</td>\n",
       "      <td>192</td>\n",
       "    </tr>\n",
       "    <tr>\n",
       "      <th>492</th>\n",
       "      <td>bombinhas</td>\n",
       "      <td>5.0</td>\n",
       "      <td>68.0</td>\n",
       "      <td>18.423913</td>\n",
       "      <td>9.793734</td>\n",
       "      <td>92</td>\n",
       "    </tr>\n",
       "    <tr>\n",
       "      <th>491</th>\n",
       "      <td>criciuma</td>\n",
       "      <td>3.0</td>\n",
       "      <td>71.0</td>\n",
       "      <td>17.971429</td>\n",
       "      <td>15.867995</td>\n",
       "      <td>35</td>\n",
       "    </tr>\n",
       "    <tr>\n",
       "      <th>489</th>\n",
       "      <td>claudio</td>\n",
       "      <td>5.0</td>\n",
       "      <td>48.0</td>\n",
       "      <td>17.620155</td>\n",
       "      <td>8.167383</td>\n",
       "      <td>129</td>\n",
       "    </tr>\n",
       "    <tr>\n",
       "      <th>483</th>\n",
       "      <td>caucaia</td>\n",
       "      <td>3.0</td>\n",
       "      <td>138.0</td>\n",
       "      <td>17.323529</td>\n",
       "      <td>23.017412</td>\n",
       "      <td>34</td>\n",
       "    </tr>\n",
       "  </tbody>\n",
       "</table>\n",
       "</div>"
      ],
      "text/plain": [
       "            seller_city  min    max       mean        std  count\n",
       "516             mombuca  6.0   88.0  22.575758  17.776442     33\n",
       "509     itaquaquecetuba  1.0  194.0  21.383506  12.929833   1734\n",
       "507           congonhal  4.0   60.0  21.083333  12.764675    108\n",
       "504  balneario camboriu  3.0   79.0  20.258065  17.427885     31\n",
       "503             tubarao  6.0   81.0  19.485714  20.325833     35\n",
       "497       foz do iguacu  2.0   92.0  18.973958  17.304309    192\n",
       "492           bombinhas  5.0   68.0  18.423913   9.793734     92\n",
       "491            criciuma  3.0   71.0  17.971429  15.867995     35\n",
       "489             claudio  5.0   48.0  17.620155   8.167383    129\n",
       "483             caucaia  3.0  138.0  17.323529  23.017412     34"
      ]
     },
     "execution_count": 41,
     "metadata": {},
     "output_type": "execute_result"
    }
   ],
   "source": [
    "slowestdeliverysellers"
   ]
  },
  {
   "cell_type": "code",
   "execution_count": null,
   "id": "50e9372c",
   "metadata": {},
   "outputs": [],
   "source": []
  },
  {
   "cell_type": "markdown",
   "id": "360085d6",
   "metadata": {},
   "source": [
    "## States with highest/lowest time to delivery\n"
   ]
  },
  {
   "cell_type": "code",
   "execution_count": 43,
   "id": "a4c48c19",
   "metadata": {},
   "outputs": [],
   "source": [
    "highestTTDstates = data.groupby(\"customer_state\")[\"diff_del_pur\"].mean().dropna().sort_values(ascending=False).reset_index()\n",
    "highestTTDstates = highestTTDstates[:10]"
   ]
  },
  {
   "cell_type": "code",
   "execution_count": 44,
   "id": "62aae673",
   "metadata": {},
   "outputs": [
    {
     "data": {
      "image/png": "[encoded data removed]",
      "text/plain": [
       "<Figure size 432x288 with 1 Axes>"
      ]
     },
     "metadata": {
      "needs_background": "light"
     },
     "output_type": "display_data"
    }
   ],
   "source": [
    "ax = sns.barplot(y=\"customer_state\", x=\"diff_del_pur\", data=highestTTDstates)\n"
   ]
  },
  {
   "cell_type": "code",
   "execution_count": 45,
   "id": "cc5de8bf",
   "metadata": {},
   "outputs": [],
   "source": [
    "lowestTTDstates = data.groupby(\"customer_state\")[\"diff_del_pur\"].mean().dropna().sort_values(ascending=True).reset_index()\n",
    "lowestTTDstates = lowestTTDstates[:10]\n"
   ]
  },
  {
   "cell_type": "code",
   "execution_count": 46,
   "id": "a45b944f",
   "metadata": {},
   "outputs": [
    {
     "data": {
      "image/png": "[encoded data removed]",
      "text/plain": [
       "<Figure size 432x288 with 1 Axes>"
      ]
     },
     "metadata": {
      "needs_background": "light"
     },
     "output_type": "display_data"
    }
   ],
   "source": [
    "ax = sns.barplot(y=\"customer_state\", x=\"diff_del_pur\", data=lowestTTDstates)"
   ]
  },
  {
   "cell_type": "code",
   "execution_count": null,
   "id": "fcd987dc",
   "metadata": {},
   "outputs": [],
   "source": []
  },
  {
   "cell_type": "markdown",
   "id": "47939a92",
   "metadata": {},
   "source": [
    "## How does average deliverytime vary across time?\n"
   ]
  },
  {
   "cell_type": "code",
   "execution_count": null,
   "id": "b9955f52",
   "metadata": {},
   "outputs": [],
   "source": []
  },
  {
   "cell_type": "code",
   "execution_count": 9,
   "id": "62bdee5a",
   "metadata": {},
   "outputs": [],
   "source": [
    "delivered_order = orders[orders['order_status'] == 'delivered']\n",
    "delivered_order = delivered_order.fillna(0)\n",
    "delivered_order = delivered_order[delivered_order['order_delivered_customer_date'] != 0]\n",
    "delivered_order = delivered_order[delivered_order['order_approved_at'] != 0]\n",
    "time = (pd.to_datetime(delivered_order['order_delivered_customer_date']) - pd.to_datetime(delivered_order['order_approved_at'])).dt.days"
   ]
  },
  {
   "cell_type": "code",
   "execution_count": 10,
   "id": "7ac3d85e",
   "metadata": {},
   "outputs": [
    {
     "name": "stdout",
     "output_type": "stream",
     "text": [
      "0         8\n",
      "1        12\n",
      "2         9\n",
      "3        13\n",
      "4         2\n",
      "         ..\n",
      "99436     8\n",
      "99437    22\n",
      "99438    24\n",
      "99439    17\n",
      "99440     7\n",
      "Length: 96456, dtype: int64\n"
     ]
    }
   ],
   "source": [
    "print(time)"
   ]
  },
  {
   "cell_type": "code",
   "execution_count": 10,
   "id": "0fbaad35",
   "metadata": {},
   "outputs": [],
   "source": [
    "delivered_order['delivery_time (days)'] = time\n",
    "delivered_order = delivered_order[delivered_order['delivery_time (days)'] > 0]\n",
    "delivered_order = delivered_order.sort_values('order_approved_at')\n",
    "delivered_order = delivered_order.set_index(pd.to_datetime(delivered_order['order_approved_at']).dt.date, drop=True)"
   ]
  },
  {
   "cell_type": "code",
   "execution_count": 11,
   "id": "57401fec",
   "metadata": {},
   "outputs": [
    {
     "data": {
      "image/png": "[encoded data removed]",
      "text/plain": [
       "<Figure size 864x576 with 1 Axes>"
      ]
     },
     "metadata": {
      "needs_background": "light"
     },
     "output_type": "display_data"
    }
   ],
   "source": [
    "delivery_days_average = delivered_order.groupby(delivered_order.index).mean()\n",
    "global_average = float(delivery_days_average.mean())\n",
    "\n",
    "plt.figure(figsize = (12,8))\n",
    "plt.plot(delivery_days_average.index, delivery_days_average, label = 'daily_delivery_time')\n",
    "plt.axhline(y=global_average, linestyle='--', color='blue', label = 'average : ' + str(global_average)[:5] + ' days')\n",
    "plt.xlabel('Date', fontsize=16)\n",
    "\n",
    "plt.ylabel('average delivery time (days)', fontsize=16)\n",
    "plt.title('Average delivery time over time since ' + str(delivery_days_average.index[0]) + ' to ' + str(delivery_days_average.index[-1]) , fontsize=16)\n",
    "plt.legend(loc='best', fontsize=16)\n",
    "plt.show()"
   ]
  },
  {
   "cell_type": "code",
   "execution_count": null,
   "id": "390bd4af",
   "metadata": {},
   "outputs": [],
   "source": []
  },
  {
   "cell_type": "markdown",
   "id": "26644c52",
   "metadata": {},
   "source": [
    "## RFM ANALYSIS"
   ]
  },
  {
   "cell_type": "markdown",
   "id": "c18c531b",
   "metadata": {},
   "source": [
    "## What is RFM analysis?\n",
    "\n",
    "#### RFM stands for recency, frequency, monetary value. In business analytics, we often use this concept to divide customers into different segments, like high-value customers, medium value customers or low-value customers, and similarly many others.\n",
    "\n",
    "#### Let’s assume we are a company, our company name is geek, let’s perform the RFM analysis on our customers\n",
    "\n",
    "#### Recency: How recently has the customer made a transaction with us\n",
    "\n",
    "#### Frequency: How frequent is the customer in ordering/buying some product from us\n",
    "\n",
    "#### Monetary: How much does the customer spend on purchasing products from us.\n",
    "\n",
    "source: geekforgeeks"
   ]
  },
  {
   "cell_type": "code",
   "execution_count": 12,
   "id": "23773fa2",
   "metadata": {},
   "outputs": [],
   "source": [
    "# Calculate recency \n",
    "\n",
    "df_recency = data.groupby('customer_unique_id', as_index=False)['order_purchase_timestamp'].max()"
   ]
  },
  {
   "cell_type": "code",
   "execution_count": 13,
   "id": "e39a3604",
   "metadata": {},
   "outputs": [
    {
     "data": {
      "text/html": [
       "<div>\n",
       "<style scoped>\n",
       "    .dataframe tbody tr th:only-of-type {\n",
       "        vertical-align: middle;\n",
       "    }\n",
       "\n",
       "    .dataframe tbody tr th {\n",
       "        vertical-align: top;\n",
       "    }\n",
       "\n",
       "    .dataframe thead th {\n",
       "        text-align: right;\n",
       "    }\n",
       "</style>\n",
       "<table border=\"1\" class=\"dataframe\">\n",
       "  <thead>\n",
       "    <tr style=\"text-align: right;\">\n",
       "      <th></th>\n",
       "      <th>customer_unique_id</th>\n",
       "      <th>order_purchase_timestamp</th>\n",
       "    </tr>\n",
       "  </thead>\n",
       "  <tbody>\n",
       "    <tr>\n",
       "      <th>0</th>\n",
       "      <td>0000366f3b9a7992bf8c76cfdf3221e2</td>\n",
       "      <td>2018-05-10 10:56:27</td>\n",
       "    </tr>\n",
       "    <tr>\n",
       "      <th>1</th>\n",
       "      <td>0000b849f77a49e4a4ce2b2a4ca5be3f</td>\n",
       "      <td>2018-05-07 11:11:27</td>\n",
       "    </tr>\n",
       "    <tr>\n",
       "      <th>2</th>\n",
       "      <td>0000f46a3911fa3c0805444483337064</td>\n",
       "      <td>2017-03-10 21:05:03</td>\n",
       "    </tr>\n",
       "    <tr>\n",
       "      <th>3</th>\n",
       "      <td>0000f6ccb0745a6a4b88665a16c9f078</td>\n",
       "      <td>2017-10-12 20:29:41</td>\n",
       "    </tr>\n",
       "    <tr>\n",
       "      <th>4</th>\n",
       "      <td>0004aac84e0df4da2b147fca70cf8255</td>\n",
       "      <td>2017-11-14 19:45:42</td>\n",
       "    </tr>\n",
       "    <tr>\n",
       "      <th>...</th>\n",
       "      <td>...</td>\n",
       "      <td>...</td>\n",
       "    </tr>\n",
       "    <tr>\n",
       "      <th>93391</th>\n",
       "      <td>fffcf5a5ff07b0908bd4e2dbc735a684</td>\n",
       "      <td>2017-06-08 21:00:36</td>\n",
       "    </tr>\n",
       "    <tr>\n",
       "      <th>93392</th>\n",
       "      <td>fffea47cd6d3cc0a88bd621562a9d061</td>\n",
       "      <td>2017-12-10 20:07:56</td>\n",
       "    </tr>\n",
       "    <tr>\n",
       "      <th>93393</th>\n",
       "      <td>ffff371b4d645b6ecea244b27531430a</td>\n",
       "      <td>2017-02-07 15:49:16</td>\n",
       "    </tr>\n",
       "    <tr>\n",
       "      <th>93394</th>\n",
       "      <td>ffff5962728ec6157033ef9805bacc48</td>\n",
       "      <td>2018-05-02 15:17:41</td>\n",
       "    </tr>\n",
       "    <tr>\n",
       "      <th>93395</th>\n",
       "      <td>ffffd2657e2aad2907e67c3e9daecbeb</td>\n",
       "      <td>2017-05-02 20:18:45</td>\n",
       "    </tr>\n",
       "  </tbody>\n",
       "</table>\n",
       "<p>93396 rows × 2 columns</p>\n",
       "</div>"
      ],
      "text/plain": [
       "                     customer_unique_id order_purchase_timestamp\n",
       "0      0000366f3b9a7992bf8c76cfdf3221e2      2018-05-10 10:56:27\n",
       "1      0000b849f77a49e4a4ce2b2a4ca5be3f      2018-05-07 11:11:27\n",
       "2      0000f46a3911fa3c0805444483337064      2017-03-10 21:05:03\n",
       "3      0000f6ccb0745a6a4b88665a16c9f078      2017-10-12 20:29:41\n",
       "4      0004aac84e0df4da2b147fca70cf8255      2017-11-14 19:45:42\n",
       "...                                 ...                      ...\n",
       "93391  fffcf5a5ff07b0908bd4e2dbc735a684      2017-06-08 21:00:36\n",
       "93392  fffea47cd6d3cc0a88bd621562a9d061      2017-12-10 20:07:56\n",
       "93393  ffff371b4d645b6ecea244b27531430a      2017-02-07 15:49:16\n",
       "93394  ffff5962728ec6157033ef9805bacc48      2018-05-02 15:17:41\n",
       "93395  ffffd2657e2aad2907e67c3e9daecbeb      2017-05-02 20:18:45\n",
       "\n",
       "[93396 rows x 2 columns]"
      ]
     },
     "execution_count": 13,
     "metadata": {},
     "output_type": "execute_result"
    }
   ],
   "source": [
    "df_recency"
   ]
  },
  {
   "cell_type": "code",
   "execution_count": 14,
   "id": "e5344754",
   "metadata": {},
   "outputs": [],
   "source": [
    "df_recency.rename(columns={'order_purchase_timestamp':'LastPurchaseDate'},inplace=True)\n"
   ]
  },
  {
   "cell_type": "code",
   "execution_count": 15,
   "id": "4bc7f785",
   "metadata": {},
   "outputs": [],
   "source": [
    "#df_recency[\"LastPurchaseDate\"] = df_recency[\"LastPurchaseDate\"].dt.days\n",
    "\n",
    "df_recency[\"LastPurchaseDate\"]= pd.to_datetime(df_recency['LastPurchaseDate']).dt.date"
   ]
  },
  {
   "cell_type": "code",
   "execution_count": 16,
   "id": "ead66e2c",
   "metadata": {},
   "outputs": [],
   "source": [
    "recent_date = pd.to_datetime(data['order_purchase_timestamp']).dt.date.max()\n",
    "\n"
   ]
  },
  {
   "cell_type": "code",
   "execution_count": 17,
   "id": "c8df1778",
   "metadata": {},
   "outputs": [],
   "source": [
    "df_recency['Recency'] = df_recency['LastPurchaseDate'].apply(lambda x: (recent_date - x).days)"
   ]
  },
  {
   "cell_type": "code",
   "execution_count": 22,
   "id": "a1500c59",
   "metadata": {},
   "outputs": [
    {
     "data": {
      "text/html": [
       "<div>\n",
       "<style scoped>\n",
       "    .dataframe tbody tr th:only-of-type {\n",
       "        vertical-align: middle;\n",
       "    }\n",
       "\n",
       "    .dataframe tbody tr th {\n",
       "        vertical-align: top;\n",
       "    }\n",
       "\n",
       "    .dataframe thead th {\n",
       "        text-align: right;\n",
       "    }\n",
       "</style>\n",
       "<table border=\"1\" class=\"dataframe\">\n",
       "  <thead>\n",
       "    <tr style=\"text-align: right;\">\n",
       "      <th></th>\n",
       "      <th>customer_unique_id</th>\n",
       "      <th>LastPurchaseDate</th>\n",
       "      <th>Recency</th>\n",
       "    </tr>\n",
       "  </thead>\n",
       "  <tbody>\n",
       "    <tr>\n",
       "      <th>0</th>\n",
       "      <td>0000366f3b9a7992bf8c76cfdf3221e2</td>\n",
       "      <td>2018-05-10</td>\n",
       "      <td>116</td>\n",
       "    </tr>\n",
       "    <tr>\n",
       "      <th>1</th>\n",
       "      <td>0000b849f77a49e4a4ce2b2a4ca5be3f</td>\n",
       "      <td>2018-05-07</td>\n",
       "      <td>119</td>\n",
       "    </tr>\n",
       "    <tr>\n",
       "      <th>2</th>\n",
       "      <td>0000f46a3911fa3c0805444483337064</td>\n",
       "      <td>2017-03-10</td>\n",
       "      <td>542</td>\n",
       "    </tr>\n",
       "    <tr>\n",
       "      <th>3</th>\n",
       "      <td>0000f6ccb0745a6a4b88665a16c9f078</td>\n",
       "      <td>2017-10-12</td>\n",
       "      <td>326</td>\n",
       "    </tr>\n",
       "    <tr>\n",
       "      <th>4</th>\n",
       "      <td>0004aac84e0df4da2b147fca70cf8255</td>\n",
       "      <td>2017-11-14</td>\n",
       "      <td>293</td>\n",
       "    </tr>\n",
       "  </tbody>\n",
       "</table>\n",
       "</div>"
      ],
      "text/plain": [
       "                 customer_unique_id LastPurchaseDate  Recency\n",
       "0  0000366f3b9a7992bf8c76cfdf3221e2       2018-05-10      116\n",
       "1  0000b849f77a49e4a4ce2b2a4ca5be3f       2018-05-07      119\n",
       "2  0000f46a3911fa3c0805444483337064       2017-03-10      542\n",
       "3  0000f6ccb0745a6a4b88665a16c9f078       2017-10-12      326\n",
       "4  0004aac84e0df4da2b147fca70cf8255       2017-11-14      293"
      ]
     },
     "execution_count": 22,
     "metadata": {},
     "output_type": "execute_result"
    }
   ],
   "source": [
    "df_recency.head()"
   ]
  },
  {
   "cell_type": "code",
   "execution_count": null,
   "id": "c30c73a5",
   "metadata": {},
   "outputs": [],
   "source": []
  },
  {
   "cell_type": "code",
   "execution_count": 19,
   "id": "3535657f",
   "metadata": {},
   "outputs": [],
   "source": [
    "#Frequency\n",
    "\n",
    "df_frequency = data.groupby([\"customer_unique_id\"]).agg({\"order_id\":\"nunique\"}).reset_index()"
   ]
  },
  {
   "cell_type": "code",
   "execution_count": 20,
   "id": "c91e6d5b",
   "metadata": {},
   "outputs": [],
   "source": [
    "df_frequency.rename(columns={'order_id':'Frequency'},inplace=True)"
   ]
  },
  {
   "cell_type": "code",
   "execution_count": 21,
   "id": "5517df7f",
   "metadata": {},
   "outputs": [
    {
     "data": {
      "text/html": [
       "<div>\n",
       "<style scoped>\n",
       "    .dataframe tbody tr th:only-of-type {\n",
       "        vertical-align: middle;\n",
       "    }\n",
       "\n",
       "    .dataframe tbody tr th {\n",
       "        vertical-align: top;\n",
       "    }\n",
       "\n",
       "    .dataframe thead th {\n",
       "        text-align: right;\n",
       "    }\n",
       "</style>\n",
       "<table border=\"1\" class=\"dataframe\">\n",
       "  <thead>\n",
       "    <tr style=\"text-align: right;\">\n",
       "      <th></th>\n",
       "      <th>customer_unique_id</th>\n",
       "      <th>Frequency</th>\n",
       "    </tr>\n",
       "  </thead>\n",
       "  <tbody>\n",
       "    <tr>\n",
       "      <th>0</th>\n",
       "      <td>0000366f3b9a7992bf8c76cfdf3221e2</td>\n",
       "      <td>1</td>\n",
       "    </tr>\n",
       "    <tr>\n",
       "      <th>1</th>\n",
       "      <td>0000b849f77a49e4a4ce2b2a4ca5be3f</td>\n",
       "      <td>1</td>\n",
       "    </tr>\n",
       "    <tr>\n",
       "      <th>2</th>\n",
       "      <td>0000f46a3911fa3c0805444483337064</td>\n",
       "      <td>1</td>\n",
       "    </tr>\n",
       "    <tr>\n",
       "      <th>3</th>\n",
       "      <td>0000f6ccb0745a6a4b88665a16c9f078</td>\n",
       "      <td>1</td>\n",
       "    </tr>\n",
       "    <tr>\n",
       "      <th>4</th>\n",
       "      <td>0004aac84e0df4da2b147fca70cf8255</td>\n",
       "      <td>1</td>\n",
       "    </tr>\n",
       "  </tbody>\n",
       "</table>\n",
       "</div>"
      ],
      "text/plain": [
       "                 customer_unique_id  Frequency\n",
       "0  0000366f3b9a7992bf8c76cfdf3221e2          1\n",
       "1  0000b849f77a49e4a4ce2b2a4ca5be3f          1\n",
       "2  0000f46a3911fa3c0805444483337064          1\n",
       "3  0000f6ccb0745a6a4b88665a16c9f078          1\n",
       "4  0004aac84e0df4da2b147fca70cf8255          1"
      ]
     },
     "execution_count": 21,
     "metadata": {},
     "output_type": "execute_result"
    }
   ],
   "source": [
    "df_frequency.head()"
   ]
  },
  {
   "cell_type": "code",
   "execution_count": null,
   "id": "4abdd09c",
   "metadata": {},
   "outputs": [],
   "source": []
  },
  {
   "cell_type": "code",
   "execution_count": 23,
   "id": "5bb30352",
   "metadata": {},
   "outputs": [],
   "source": [
    "#Calculating monetary value\n",
    "\n",
    "df_monetary  =  data.groupby('customer_unique_id', as_index=False)['payment_value'].sum()"
   ]
  },
  {
   "cell_type": "code",
   "execution_count": 24,
   "id": "5eaf372f",
   "metadata": {},
   "outputs": [],
   "source": [
    "df_monetary.rename(columns={'payment_value':'Monetary'},inplace=True)\n"
   ]
  },
  {
   "cell_type": "code",
   "execution_count": 25,
   "id": "2ac5a886",
   "metadata": {},
   "outputs": [
    {
     "data": {
      "text/html": [
       "<div>\n",
       "<style scoped>\n",
       "    .dataframe tbody tr th:only-of-type {\n",
       "        vertical-align: middle;\n",
       "    }\n",
       "\n",
       "    .dataframe tbody tr th {\n",
       "        vertical-align: top;\n",
       "    }\n",
       "\n",
       "    .dataframe thead th {\n",
       "        text-align: right;\n",
       "    }\n",
       "</style>\n",
       "<table border=\"1\" class=\"dataframe\">\n",
       "  <thead>\n",
       "    <tr style=\"text-align: right;\">\n",
       "      <th></th>\n",
       "      <th>customer_unique_id</th>\n",
       "      <th>Monetary</th>\n",
       "    </tr>\n",
       "  </thead>\n",
       "  <tbody>\n",
       "    <tr>\n",
       "      <th>0</th>\n",
       "      <td>0000366f3b9a7992bf8c76cfdf3221e2</td>\n",
       "      <td>141.90</td>\n",
       "    </tr>\n",
       "    <tr>\n",
       "      <th>1</th>\n",
       "      <td>0000b849f77a49e4a4ce2b2a4ca5be3f</td>\n",
       "      <td>27.19</td>\n",
       "    </tr>\n",
       "    <tr>\n",
       "      <th>2</th>\n",
       "      <td>0000f46a3911fa3c0805444483337064</td>\n",
       "      <td>86.22</td>\n",
       "    </tr>\n",
       "    <tr>\n",
       "      <th>3</th>\n",
       "      <td>0000f6ccb0745a6a4b88665a16c9f078</td>\n",
       "      <td>43.62</td>\n",
       "    </tr>\n",
       "    <tr>\n",
       "      <th>4</th>\n",
       "      <td>0004aac84e0df4da2b147fca70cf8255</td>\n",
       "      <td>196.89</td>\n",
       "    </tr>\n",
       "  </tbody>\n",
       "</table>\n",
       "</div>"
      ],
      "text/plain": [
       "                 customer_unique_id  Monetary\n",
       "0  0000366f3b9a7992bf8c76cfdf3221e2    141.90\n",
       "1  0000b849f77a49e4a4ce2b2a4ca5be3f     27.19\n",
       "2  0000f46a3911fa3c0805444483337064     86.22\n",
       "3  0000f6ccb0745a6a4b88665a16c9f078     43.62\n",
       "4  0004aac84e0df4da2b147fca70cf8255    196.89"
      ]
     },
     "execution_count": 25,
     "metadata": {},
     "output_type": "execute_result"
    }
   ],
   "source": [
    "df_monetary.head()"
   ]
  },
  {
   "cell_type": "code",
   "execution_count": null,
   "id": "4768a237",
   "metadata": {},
   "outputs": [],
   "source": []
  },
  {
   "cell_type": "code",
   "execution_count": 26,
   "id": "8579491f",
   "metadata": {},
   "outputs": [
    {
     "data": {
      "text/html": [
       "<div>\n",
       "<style scoped>\n",
       "    .dataframe tbody tr th:only-of-type {\n",
       "        vertical-align: middle;\n",
       "    }\n",
       "\n",
       "    .dataframe tbody tr th {\n",
       "        vertical-align: top;\n",
       "    }\n",
       "\n",
       "    .dataframe thead th {\n",
       "        text-align: right;\n",
       "    }\n",
       "</style>\n",
       "<table border=\"1\" class=\"dataframe\">\n",
       "  <thead>\n",
       "    <tr style=\"text-align: right;\">\n",
       "      <th></th>\n",
       "      <th>customer_unique_id</th>\n",
       "      <th>Recency</th>\n",
       "      <th>Frequency</th>\n",
       "      <th>Monetary</th>\n",
       "    </tr>\n",
       "  </thead>\n",
       "  <tbody>\n",
       "    <tr>\n",
       "      <th>0</th>\n",
       "      <td>0000366f3b9a7992bf8c76cfdf3221e2</td>\n",
       "      <td>116</td>\n",
       "      <td>1</td>\n",
       "      <td>141.90</td>\n",
       "    </tr>\n",
       "    <tr>\n",
       "      <th>1</th>\n",
       "      <td>0000b849f77a49e4a4ce2b2a4ca5be3f</td>\n",
       "      <td>119</td>\n",
       "      <td>1</td>\n",
       "      <td>27.19</td>\n",
       "    </tr>\n",
       "    <tr>\n",
       "      <th>2</th>\n",
       "      <td>0000f46a3911fa3c0805444483337064</td>\n",
       "      <td>542</td>\n",
       "      <td>1</td>\n",
       "      <td>86.22</td>\n",
       "    </tr>\n",
       "    <tr>\n",
       "      <th>3</th>\n",
       "      <td>0000f6ccb0745a6a4b88665a16c9f078</td>\n",
       "      <td>326</td>\n",
       "      <td>1</td>\n",
       "      <td>43.62</td>\n",
       "    </tr>\n",
       "    <tr>\n",
       "      <th>4</th>\n",
       "      <td>0004aac84e0df4da2b147fca70cf8255</td>\n",
       "      <td>293</td>\n",
       "      <td>1</td>\n",
       "      <td>196.89</td>\n",
       "    </tr>\n",
       "  </tbody>\n",
       "</table>\n",
       "</div>"
      ],
      "text/plain": [
       "                 customer_unique_id  Recency  Frequency  Monetary\n",
       "0  0000366f3b9a7992bf8c76cfdf3221e2      116          1    141.90\n",
       "1  0000b849f77a49e4a4ce2b2a4ca5be3f      119          1     27.19\n",
       "2  0000f46a3911fa3c0805444483337064      542          1     86.22\n",
       "3  0000f6ccb0745a6a4b88665a16c9f078      326          1     43.62\n",
       "4  0004aac84e0df4da2b147fca70cf8255      293          1    196.89"
      ]
     },
     "execution_count": 26,
     "metadata": {},
     "output_type": "execute_result"
    }
   ],
   "source": [
    "# Merging dfs\n",
    "rf_df = df_recency.merge(df_frequency, on='customer_unique_id')\n",
    "rfm_df = rf_df.merge(df_monetary, on='customer_unique_id').drop(columns='LastPurchaseDate')\n",
    "rfm_df.head()"
   ]
  },
  {
   "cell_type": "code",
   "execution_count": null,
   "id": "887478c3",
   "metadata": {},
   "outputs": [],
   "source": []
  },
  {
   "cell_type": "code",
   "execution_count": 27,
   "id": "3a1697f9",
   "metadata": {},
   "outputs": [],
   "source": [
    "# Remove zeros from data before log trans\n",
    "rfm_df[rfm_df.columns[1:]] = rfm_df[rfm_df.columns[1:]].applymap(lambda x: 1 if x ==0 else x)"
   ]
  },
  {
   "cell_type": "code",
   "execution_count": 28,
   "id": "6ec2d259",
   "metadata": {},
   "outputs": [
    {
     "data": {
      "text/html": [
       "<div>\n",
       "<style scoped>\n",
       "    .dataframe tbody tr th:only-of-type {\n",
       "        vertical-align: middle;\n",
       "    }\n",
       "\n",
       "    .dataframe tbody tr th {\n",
       "        vertical-align: top;\n",
       "    }\n",
       "\n",
       "    .dataframe thead th {\n",
       "        text-align: right;\n",
       "    }\n",
       "</style>\n",
       "<table border=\"1\" class=\"dataframe\">\n",
       "  <thead>\n",
       "    <tr style=\"text-align: right;\">\n",
       "      <th></th>\n",
       "      <th>Recency</th>\n",
       "      <th>Frequency</th>\n",
       "      <th>Monetary</th>\n",
       "    </tr>\n",
       "  </thead>\n",
       "  <tbody>\n",
       "    <tr>\n",
       "      <th>0</th>\n",
       "      <td>116</td>\n",
       "      <td>1</td>\n",
       "      <td>141.90</td>\n",
       "    </tr>\n",
       "    <tr>\n",
       "      <th>1</th>\n",
       "      <td>119</td>\n",
       "      <td>1</td>\n",
       "      <td>27.19</td>\n",
       "    </tr>\n",
       "    <tr>\n",
       "      <th>2</th>\n",
       "      <td>542</td>\n",
       "      <td>1</td>\n",
       "      <td>86.22</td>\n",
       "    </tr>\n",
       "    <tr>\n",
       "      <th>3</th>\n",
       "      <td>326</td>\n",
       "      <td>1</td>\n",
       "      <td>43.62</td>\n",
       "    </tr>\n",
       "    <tr>\n",
       "      <th>4</th>\n",
       "      <td>293</td>\n",
       "      <td>1</td>\n",
       "      <td>196.89</td>\n",
       "    </tr>\n",
       "    <tr>\n",
       "      <th>...</th>\n",
       "      <td>...</td>\n",
       "      <td>...</td>\n",
       "      <td>...</td>\n",
       "    </tr>\n",
       "    <tr>\n",
       "      <th>93391</th>\n",
       "      <td>452</td>\n",
       "      <td>1</td>\n",
       "      <td>4134.84</td>\n",
       "    </tr>\n",
       "    <tr>\n",
       "      <th>93392</th>\n",
       "      <td>267</td>\n",
       "      <td>1</td>\n",
       "      <td>84.58</td>\n",
       "    </tr>\n",
       "    <tr>\n",
       "      <th>93393</th>\n",
       "      <td>573</td>\n",
       "      <td>1</td>\n",
       "      <td>112.46</td>\n",
       "    </tr>\n",
       "    <tr>\n",
       "      <th>93394</th>\n",
       "      <td>124</td>\n",
       "      <td>1</td>\n",
       "      <td>133.69</td>\n",
       "    </tr>\n",
       "    <tr>\n",
       "      <th>93395</th>\n",
       "      <td>489</td>\n",
       "      <td>1</td>\n",
       "      <td>71.56</td>\n",
       "    </tr>\n",
       "  </tbody>\n",
       "</table>\n",
       "<p>93396 rows × 3 columns</p>\n",
       "</div>"
      ],
      "text/plain": [
       "       Recency  Frequency  Monetary\n",
       "0          116          1    141.90\n",
       "1          119          1     27.19\n",
       "2          542          1     86.22\n",
       "3          326          1     43.62\n",
       "4          293          1    196.89\n",
       "...        ...        ...       ...\n",
       "93391      452          1   4134.84\n",
       "93392      267          1     84.58\n",
       "93393      573          1    112.46\n",
       "93394      124          1    133.69\n",
       "93395      489          1     71.56\n",
       "\n",
       "[93396 rows x 3 columns]"
      ]
     },
     "execution_count": 28,
     "metadata": {},
     "output_type": "execute_result"
    }
   ],
   "source": [
    "rfm_df[rfm_df.columns[1:]]"
   ]
  },
  {
   "cell_type": "code",
   "execution_count": null,
   "id": "9c550174",
   "metadata": {},
   "outputs": [],
   "source": []
  },
  {
   "cell_type": "code",
   "execution_count": 29,
   "id": "3589acc0",
   "metadata": {},
   "outputs": [],
   "source": [
    "# Running K-Means algo to cluster our data\n",
    "# Let's check if data is skewed first\n",
    "def check_skew(df_skew, column):\n",
    "    skew = stats.skew(df_skew[column])\n",
    "    skewtest = stats.skewtest(df_skew[column])\n",
    "    plt.title('Distribution of ' + column)\n",
    "    sns.distplot(df_skew[column])\n",
    "    plt.show()\n",
    "    print(\"{}'s: Skew: {}, : {}\".format(column, skew, skewtest))\n",
    "    return"
   ]
  },
  {
   "cell_type": "code",
   "execution_count": 30,
   "id": "36ab4ccc",
   "metadata": {},
   "outputs": [
    {
     "data": {
      "image/png": "[encoded data removed]",
      "text/plain": [
       "<Figure size 432x288 with 1 Axes>"
      ]
     },
     "metadata": {
      "needs_background": "light"
     },
     "output_type": "display_data"
    },
    {
     "name": "stdout",
     "output_type": "stream",
     "text": [
      "Recency's: Skew: 0.4525743664936904, : SkewtestResult(statistic=53.91755466635981, pvalue=0.0)\n"
     ]
    },
    {
     "data": {
      "image/png": "[encoded data removed]",
      "text/plain": [
       "<Figure size 432x288 with 1 Axes>"
      ]
     },
     "metadata": {
      "needs_background": "light"
     },
     "output_type": "display_data"
    },
    {
     "name": "stdout",
     "output_type": "stream",
     "text": [
      "Frequency's: Skew: 10.990942154921314, : SkewtestResult(statistic=335.6456861541721, pvalue=0.0)\n"
     ]
    },
    {
     "data": {
      "image/png": "[encoded data removed]",
      "text/plain": [
       "<Figure size 432x288 with 1 Axes>"
      ]
     },
     "metadata": {
      "needs_background": "light"
     },
     "output_type": "display_data"
    },
    {
     "name": "stdout",
     "output_type": "stream",
     "text": [
      "Monetary's: Skew: 70.33621193560055, : SkewtestResult(statistic=524.6379205104615, pvalue=0.0)\n"
     ]
    }
   ],
   "source": [
    "for col in rfm_df.columns[1:]:\n",
    "    check_skew(rfm_df, col)"
   ]
  },
  {
   "cell_type": "markdown",
   "id": "5d5807a7",
   "metadata": {},
   "source": [
    "### A skewness value greater than 1 or less than -1 indicates a highly skewed distribution. A value between 0.5 and 1 or -0.5 and -1 is moderately skewed. A value between -0.5 and 0.5 indicates that the distribution is fairly symmetrical.\n",
    "\n",
    "We'll log transform Frequency and Monetary as they are highly skwed."
   ]
  },
  {
   "cell_type": "code",
   "execution_count": null,
   "id": "f762b367",
   "metadata": {},
   "outputs": [],
   "source": []
  },
  {
   "cell_type": "code",
   "execution_count": 31,
   "id": "98079b16",
   "metadata": {},
   "outputs": [],
   "source": [
    "# Perform log transformation \n",
    "rfm_df_log = rfm_df.copy()\n",
    "for c in rfm_df.columns[2:]:\n",
    "    rfm_df_log[c] = np.log10(rfm_df_log[c])"
   ]
  },
  {
   "cell_type": "code",
   "execution_count": 32,
   "id": "3584baf5",
   "metadata": {},
   "outputs": [
    {
     "data": {
      "image/png": "[encoded data removed]",
      "text/plain": [
       "<Figure size 432x288 with 1 Axes>"
      ]
     },
     "metadata": {
      "needs_background": "light"
     },
     "output_type": "display_data"
    },
    {
     "name": "stdout",
     "output_type": "stream",
     "text": [
      "Recency's: Skew: 0.4525743664936904, : SkewtestResult(statistic=53.91755466635981, pvalue=0.0)\n"
     ]
    },
    {
     "data": {
      "image/png": "[encoded data removed]",
      "text/plain": [
       "<Figure size 432x288 with 1 Axes>"
      ]
     },
     "metadata": {
      "needs_background": "light"
     },
     "output_type": "display_data"
    },
    {
     "name": "stdout",
     "output_type": "stream",
     "text": [
      "Frequency's: Skew: 6.068294981630156, : SkewtestResult(statistic=275.4417097222108, pvalue=0.0)\n"
     ]
    },
    {
     "data": {
      "image/png": "[encoded data removed]",
      "text/plain": [
       "<Figure size 432x288 with 1 Axes>"
      ]
     },
     "metadata": {
      "needs_background": "light"
     },
     "output_type": "display_data"
    },
    {
     "name": "stdout",
     "output_type": "stream",
     "text": [
      "Monetary's: Skew: 0.729609897634013, : SkewtestResult(statistic=81.9204555191681, pvalue=0.0)\n"
     ]
    }
   ],
   "source": [
    "for col in rfm_df.columns[1:]:\n",
    "    check_skew(rfm_df_log, col)"
   ]
  },
  {
   "cell_type": "code",
   "execution_count": null,
   "id": "13c2fc8d",
   "metadata": {},
   "outputs": [],
   "source": []
  },
  {
   "cell_type": "code",
   "execution_count": 33,
   "id": "50937de9",
   "metadata": {},
   "outputs": [],
   "source": [
    "scaler = StandardScaler()\n",
    "scaler.fit(rfm_df_log.drop(\"customer_unique_id\", axis=1))\n",
    "RFM_Table_scaled = scaler.transform(rfm_df_log.drop(\"customer_unique_id\", axis=1))\n",
    "# Put data into a df\n",
    "RFM_Table_scaled = pd.DataFrame(RFM_Table_scaled, columns=rfm_df_log.columns[1:])"
   ]
  },
  {
   "cell_type": "code",
   "execution_count": null,
   "id": "f96de37a",
   "metadata": {},
   "outputs": [],
   "source": []
  },
  {
   "cell_type": "code",
   "execution_count": 34,
   "id": "972ee62b",
   "metadata": {},
   "outputs": [
    {
     "data": {
      "text/html": [
       "<div>\n",
       "<style scoped>\n",
       "    .dataframe tbody tr th:only-of-type {\n",
       "        vertical-align: middle;\n",
       "    }\n",
       "\n",
       "    .dataframe tbody tr th {\n",
       "        vertical-align: top;\n",
       "    }\n",
       "\n",
       "    .dataframe thead th {\n",
       "        text-align: right;\n",
       "    }\n",
       "</style>\n",
       "<table border=\"1\" class=\"dataframe\">\n",
       "  <thead>\n",
       "    <tr style=\"text-align: right;\">\n",
       "      <th></th>\n",
       "      <th>Recency</th>\n",
       "      <th>Frequency</th>\n",
       "      <th>Monetary</th>\n",
       "    </tr>\n",
       "  </thead>\n",
       "  <tbody>\n",
       "    <tr>\n",
       "      <th>0</th>\n",
       "      <td>-0.826858</td>\n",
       "      <td>-0.172439</td>\n",
       "      <td>0.164274</td>\n",
       "    </tr>\n",
       "    <tr>\n",
       "      <th>1</th>\n",
       "      <td>-0.807272</td>\n",
       "      <td>-0.172439</td>\n",
       "      <td>-1.635774</td>\n",
       "    </tr>\n",
       "    <tr>\n",
       "      <th>2</th>\n",
       "      <td>1.954465</td>\n",
       "      <td>-0.172439</td>\n",
       "      <td>-0.378506</td>\n",
       "    </tr>\n",
       "    <tr>\n",
       "      <th>3</th>\n",
       "      <td>0.544216</td>\n",
       "      <td>-0.172439</td>\n",
       "      <td>-1.120834</td>\n",
       "    </tr>\n",
       "    <tr>\n",
       "      <th>4</th>\n",
       "      <td>0.328762</td>\n",
       "      <td>-0.172439</td>\n",
       "      <td>0.521090</td>\n",
       "    </tr>\n",
       "  </tbody>\n",
       "</table>\n",
       "</div>"
      ],
      "text/plain": [
       "    Recency  Frequency  Monetary\n",
       "0 -0.826858  -0.172439  0.164274\n",
       "1 -0.807272  -0.172439 -1.635774\n",
       "2  1.954465  -0.172439 -0.378506\n",
       "3  0.544216  -0.172439 -1.120834\n",
       "4  0.328762  -0.172439  0.521090"
      ]
     },
     "execution_count": 34,
     "metadata": {},
     "output_type": "execute_result"
    }
   ],
   "source": [
    "RFM_Table_scaled.head()"
   ]
  },
  {
   "cell_type": "code",
   "execution_count": null,
   "id": "a0a3c811",
   "metadata": {},
   "outputs": [],
   "source": []
  },
  {
   "cell_type": "code",
   "execution_count": 35,
   "id": "b6deee75",
   "metadata": {},
   "outputs": [
    {
     "data": {
      "image/png": "[encoded data removed]",
      "text/plain": [
       "<Figure size 648x576 with 1 Axes>"
      ]
     },
     "metadata": {
      "needs_background": "light"
     },
     "output_type": "display_data"
    }
   ],
   "source": [
    "# Training k-means model\n",
    "\n",
    "distortions = []\n",
    "K = range(1,10)\n",
    "for k in K:\n",
    "    kmeanModel = KMeans(n_clusters=k)\n",
    "    kmeanModel.fit(RFM_Table_scaled)\n",
    "    distortions.append(kmeanModel.inertia_)\n",
    "\n",
    "plt.figure(figsize=(9,8))\n",
    "plt.plot(K, distortions, 'bx-')\n",
    "plt.xlabel('k')\n",
    "plt.ylabel('Distortion')\n",
    "plt.title('The Elbow Method showing the optimal k')\n",
    "plt.show()"
   ]
  },
  {
   "cell_type": "code",
   "execution_count": null,
   "id": "aeaf575b",
   "metadata": {},
   "outputs": [],
   "source": []
  },
  {
   "cell_type": "code",
   "execution_count": 36,
   "id": "bed6d9c4",
   "metadata": {},
   "outputs": [],
   "source": [
    "# Train the model on 4 clusters\n",
    "kmean_model = KMeans(n_clusters=4, random_state=5)\n",
    "kmean_y = kmean_model.fit_predict(RFM_Table_scaled)\n",
    "# Add labels to df\n",
    "rfm_df['Cluster'] = kmean_model.labels_"
   ]
  },
  {
   "cell_type": "code",
   "execution_count": null,
   "id": "58727176",
   "metadata": {},
   "outputs": [],
   "source": []
  },
  {
   "cell_type": "code",
   "execution_count": 37,
   "id": "c0e063d8",
   "metadata": {},
   "outputs": [],
   "source": [
    "# Function to visualize clusters\n",
    "def rfm_values(df):\n",
    "    df_new = df.groupby(['Cluster']).agg({\n",
    "            'Recency': 'mean',\n",
    "            'Frequency': 'mean',\n",
    "            'Monetary': ['mean', 'count']\n",
    "        }).round(0)\n",
    "\n",
    "    return df_new"
   ]
  },
  {
   "cell_type": "code",
   "execution_count": 38,
   "id": "9418bbb3",
   "metadata": {},
   "outputs": [
    {
     "data": {
      "text/html": [
       "<div>\n",
       "<style scoped>\n",
       "    .dataframe tbody tr th:only-of-type {\n",
       "        vertical-align: middle;\n",
       "    }\n",
       "\n",
       "    .dataframe tbody tr th {\n",
       "        vertical-align: top;\n",
       "    }\n",
       "\n",
       "    .dataframe thead tr th {\n",
       "        text-align: left;\n",
       "    }\n",
       "\n",
       "    .dataframe thead tr:last-of-type th {\n",
       "        text-align: right;\n",
       "    }\n",
       "</style>\n",
       "<table border=\"1\" class=\"dataframe\">\n",
       "  <thead>\n",
       "    <tr>\n",
       "      <th></th>\n",
       "      <th>Recency</th>\n",
       "      <th>Frequency</th>\n",
       "      <th colspan=\"2\" halign=\"left\">Monetary</th>\n",
       "    </tr>\n",
       "    <tr>\n",
       "      <th></th>\n",
       "      <th>mean</th>\n",
       "      <th>mean</th>\n",
       "      <th>mean</th>\n",
       "      <th>count</th>\n",
       "    </tr>\n",
       "    <tr>\n",
       "      <th>Cluster</th>\n",
       "      <th></th>\n",
       "      <th></th>\n",
       "      <th></th>\n",
       "      <th></th>\n",
       "    </tr>\n",
       "  </thead>\n",
       "  <tbody>\n",
       "    <tr>\n",
       "      <th>0</th>\n",
       "      <td>146.0</td>\n",
       "      <td>1.0</td>\n",
       "      <td>82.0</td>\n",
       "      <td>40300</td>\n",
       "    </tr>\n",
       "    <tr>\n",
       "      <th>1</th>\n",
       "      <td>226.0</td>\n",
       "      <td>2.0</td>\n",
       "      <td>488.0</td>\n",
       "      <td>2807</td>\n",
       "    </tr>\n",
       "    <tr>\n",
       "      <th>2</th>\n",
       "      <td>426.0</td>\n",
       "      <td>1.0</td>\n",
       "      <td>124.0</td>\n",
       "      <td>27541</td>\n",
       "    </tr>\n",
       "    <tr>\n",
       "      <th>3</th>\n",
       "      <td>194.0</td>\n",
       "      <td>1.0</td>\n",
       "      <td>521.0</td>\n",
       "      <td>22748</td>\n",
       "    </tr>\n",
       "  </tbody>\n",
       "</table>\n",
       "</div>"
      ],
      "text/plain": [
       "        Recency Frequency Monetary       \n",
       "           mean      mean     mean  count\n",
       "Cluster                                  \n",
       "0         146.0       1.0     82.0  40300\n",
       "1         226.0       2.0    488.0   2807\n",
       "2         426.0       1.0    124.0  27541\n",
       "3         194.0       1.0    521.0  22748"
      ]
     },
     "execution_count": 38,
     "metadata": {},
     "output_type": "execute_result"
    }
   ],
   "source": [
    "rfm_values(rfm_df)"
   ]
  },
  {
   "cell_type": "markdown",
   "id": "1716c864",
   "metadata": {},
   "source": [
    "### The Frequency feature doesn't add that much value to the model since in our data most customers have made on average only one order (mean order per customer is 1.03). Moreover, most customers haven't ordered in a while.\n",
    "\n"
   ]
  },
  {
   "cell_type": "markdown",
   "id": "27467595",
   "metadata": {},
   "source": [
    "### What does each cluster represent?\n",
    "\n",
    "Cluster 0 : This cluster can be interpreted as (Relatively New Comers/Low spenders) as their spending is the smallest among all clusters but have the lowest recency. This cluster is quite huge. So, some marketing effort could be advisable towards it in order to increase its monetary value.\n",
    "\n",
    "Cluster 1 : can be considered as our best one (Loyal customers) since although customers in this cluster haven't on avergae ordered in a while, their frequency of orders is greater than all other clusters and the value of their orders is quite high.\n",
    "\n",
    "Cluster 3 : (Lost/Low spenders) is the name we can give to this cluster. Customers in this cluster seem have one of the highest recency and their monetary value is low. This cluster shouldn't be the focus of marketing effort.\n",
    "\n",
    "Cluster 4 : This is our second best (Big spenders) cluster as it's recency comes second and the average amount spent is largest. This cluster is also second in terms of number of customers."
   ]
  },
  {
   "cell_type": "code",
   "execution_count": null,
   "id": "24658e65",
   "metadata": {},
   "outputs": [],
   "source": []
  }
 ],
 "metadata": {
  "kernelspec": {
   "display_name": "Python 3 (ipykernel)",
   "language": "python",
   "name": "python3"
  },
  "language_info": {
   "codemirror_mode": {
    "name": "ipython",
    "version": 3
   },
   "file_extension": ".py",
   "mimetype": "text/x-python",
   "name": "python",
   "nbconvert_exporter": "python",
   "pygments_lexer": "ipython3",
   "version": "3.9.7"
  }
 },
 "nbformat": 4,
 "nbformat_minor": 5
}
